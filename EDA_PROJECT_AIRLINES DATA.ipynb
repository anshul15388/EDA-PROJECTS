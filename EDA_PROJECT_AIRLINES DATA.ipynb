{
 "cells": [
  {
   "cell_type": "markdown",
   "id": "7524f1aa",
   "metadata": {},
   "source": [
    "FEATURES\n",
    "\n",
    "The various features of the cleaned dataset are explained below:\n",
    "1) Airline: The name of the airline company is stored in the airline column. It is a categorical feature having 6 different airlines.\n",
    "2) Flight: Flight stores information regarding the plane's flight code. It is a categorical feature.\n",
    "3) Source City: City from which the flight takes off. It is a categorical feature having 6 unique cities.\n",
    "4) Departure Time: This is a derived categorical feature obtained created by grouping time periods into bins. It stores information about the departure time and have 6 unique time labels.\n",
    "5) Stops: A categorical feature with 3 distinct values that stores the number of stops between the source and destination cities.\n",
    "6) Arrival Time: This is a derived categorical feature created by grouping time intervals into bins. It has six distinct time labels and keeps information about the arrival time.\n",
    "7) Destination City: City where the flight will land. It is a categorical feature having 6 unique cities.\n",
    "8) Class: A categorical feature that contains information on seat class; it has two distinct values: Business and Economy.\n",
    "9) Duration: A continuous feature that displays the overall amount of time it takes to travel between cities in hours.\n",
    "10)Days Left: This is a derived characteristic that is calculated by subtracting the trip date by the booking date.\n",
    "11) Price: Target variable stores information of the ticket price."
   ]
  },
  {
   "cell_type": "code",
   "execution_count": 1,
   "id": "071620e1",
   "metadata": {},
   "outputs": [],
   "source": [
    "# importing necessary libraries\n",
    "\n",
    "import numpy as np\n",
    "import pandas as pd\n",
    "import seaborn as sns\n",
    "import matplotlib.pyplot as plt\n",
    "%matplotlib inline"
   ]
  },
  {
   "cell_type": "code",
   "execution_count": 2,
   "id": "e90b1a98",
   "metadata": {},
   "outputs": [],
   "source": [
    "# loading the dataset\n",
    "df=pd.read_excel('flight_price.xlsx')"
   ]
  },
  {
   "cell_type": "code",
   "execution_count": 3,
   "id": "0b276402",
   "metadata": {},
   "outputs": [
    {
     "data": {
      "text/html": [
       "<div>\n",
       "<style scoped>\n",
       "    .dataframe tbody tr th:only-of-type {\n",
       "        vertical-align: middle;\n",
       "    }\n",
       "\n",
       "    .dataframe tbody tr th {\n",
       "        vertical-align: top;\n",
       "    }\n",
       "\n",
       "    .dataframe thead th {\n",
       "        text-align: right;\n",
       "    }\n",
       "</style>\n",
       "<table border=\"1\" class=\"dataframe\">\n",
       "  <thead>\n",
       "    <tr style=\"text-align: right;\">\n",
       "      <th></th>\n",
       "      <th>Airline</th>\n",
       "      <th>Date_of_Journey</th>\n",
       "      <th>Source</th>\n",
       "      <th>Destination</th>\n",
       "      <th>Route</th>\n",
       "      <th>Dep_Time</th>\n",
       "      <th>Arrival_Time</th>\n",
       "      <th>Duration</th>\n",
       "      <th>Total_Stops</th>\n",
       "      <th>Additional_Info</th>\n",
       "      <th>Price</th>\n",
       "    </tr>\n",
       "  </thead>\n",
       "  <tbody>\n",
       "    <tr>\n",
       "      <th>0</th>\n",
       "      <td>IndiGo</td>\n",
       "      <td>24/03/2019</td>\n",
       "      <td>Banglore</td>\n",
       "      <td>New Delhi</td>\n",
       "      <td>BLR → DEL</td>\n",
       "      <td>22:20</td>\n",
       "      <td>01:10 22 Mar</td>\n",
       "      <td>2h 50m</td>\n",
       "      <td>non-stop</td>\n",
       "      <td>No info</td>\n",
       "      <td>3897</td>\n",
       "    </tr>\n",
       "    <tr>\n",
       "      <th>1</th>\n",
       "      <td>Air India</td>\n",
       "      <td>1/05/2019</td>\n",
       "      <td>Kolkata</td>\n",
       "      <td>Banglore</td>\n",
       "      <td>CCU → IXR → BBI → BLR</td>\n",
       "      <td>05:50</td>\n",
       "      <td>13:15</td>\n",
       "      <td>7h 25m</td>\n",
       "      <td>2 stops</td>\n",
       "      <td>No info</td>\n",
       "      <td>7662</td>\n",
       "    </tr>\n",
       "    <tr>\n",
       "      <th>2</th>\n",
       "      <td>Jet Airways</td>\n",
       "      <td>9/06/2019</td>\n",
       "      <td>Delhi</td>\n",
       "      <td>Cochin</td>\n",
       "      <td>DEL → LKO → BOM → COK</td>\n",
       "      <td>09:25</td>\n",
       "      <td>04:25 10 Jun</td>\n",
       "      <td>19h</td>\n",
       "      <td>2 stops</td>\n",
       "      <td>No info</td>\n",
       "      <td>13882</td>\n",
       "    </tr>\n",
       "    <tr>\n",
       "      <th>3</th>\n",
       "      <td>IndiGo</td>\n",
       "      <td>12/05/2019</td>\n",
       "      <td>Kolkata</td>\n",
       "      <td>Banglore</td>\n",
       "      <td>CCU → NAG → BLR</td>\n",
       "      <td>18:05</td>\n",
       "      <td>23:30</td>\n",
       "      <td>5h 25m</td>\n",
       "      <td>1 stop</td>\n",
       "      <td>No info</td>\n",
       "      <td>6218</td>\n",
       "    </tr>\n",
       "    <tr>\n",
       "      <th>4</th>\n",
       "      <td>IndiGo</td>\n",
       "      <td>01/03/2019</td>\n",
       "      <td>Banglore</td>\n",
       "      <td>New Delhi</td>\n",
       "      <td>BLR → NAG → DEL</td>\n",
       "      <td>16:50</td>\n",
       "      <td>21:35</td>\n",
       "      <td>4h 45m</td>\n",
       "      <td>1 stop</td>\n",
       "      <td>No info</td>\n",
       "      <td>13302</td>\n",
       "    </tr>\n",
       "  </tbody>\n",
       "</table>\n",
       "</div>"
      ],
      "text/plain": [
       "       Airline Date_of_Journey    Source Destination                  Route  \\\n",
       "0       IndiGo      24/03/2019  Banglore   New Delhi              BLR → DEL   \n",
       "1    Air India       1/05/2019   Kolkata    Banglore  CCU → IXR → BBI → BLR   \n",
       "2  Jet Airways       9/06/2019     Delhi      Cochin  DEL → LKO → BOM → COK   \n",
       "3       IndiGo      12/05/2019   Kolkata    Banglore        CCU → NAG → BLR   \n",
       "4       IndiGo      01/03/2019  Banglore   New Delhi        BLR → NAG → DEL   \n",
       "\n",
       "  Dep_Time  Arrival_Time Duration Total_Stops Additional_Info  Price  \n",
       "0    22:20  01:10 22 Mar   2h 50m    non-stop         No info   3897  \n",
       "1    05:50         13:15   7h 25m     2 stops         No info   7662  \n",
       "2    09:25  04:25 10 Jun      19h     2 stops         No info  13882  \n",
       "3    18:05         23:30   5h 25m      1 stop         No info   6218  \n",
       "4    16:50         21:35   4h 45m      1 stop         No info  13302  "
      ]
     },
     "execution_count": 3,
     "metadata": {},
     "output_type": "execute_result"
    }
   ],
   "source": [
    "# checking first 5 records\n",
    "df.head()"
   ]
  },
  {
   "cell_type": "code",
   "execution_count": 4,
   "id": "8ade06f0",
   "metadata": {},
   "outputs": [
    {
     "data": {
      "text/plain": [
       "(10683, 11)"
      ]
     },
     "execution_count": 4,
     "metadata": {},
     "output_type": "execute_result"
    }
   ],
   "source": [
    "# checking shape of the dataset\n",
    "df.shape"
   ]
  },
  {
   "cell_type": "code",
   "execution_count": 5,
   "id": "d87c7dcb",
   "metadata": {},
   "outputs": [
    {
     "name": "stdout",
     "output_type": "stream",
     "text": [
      "Our dataset has 10683 no. of rows and 11 no. of columns\n"
     ]
    }
   ],
   "source": [
    "print('Our dataset has', df.shape[0],'no. of rows and',df.shape[1],'no. of columns')"
   ]
  },
  {
   "cell_type": "code",
   "execution_count": 6,
   "id": "b3c01ff3",
   "metadata": {},
   "outputs": [
    {
     "name": "stdout",
     "output_type": "stream",
     "text": [
      "<class 'pandas.core.frame.DataFrame'>\n",
      "RangeIndex: 10683 entries, 0 to 10682\n",
      "Data columns (total 11 columns):\n",
      " #   Column           Non-Null Count  Dtype \n",
      "---  ------           --------------  ----- \n",
      " 0   Airline          10683 non-null  object\n",
      " 1   Date_of_Journey  10683 non-null  object\n",
      " 2   Source           10683 non-null  object\n",
      " 3   Destination      10683 non-null  object\n",
      " 4   Route            10682 non-null  object\n",
      " 5   Dep_Time         10683 non-null  object\n",
      " 6   Arrival_Time     10683 non-null  object\n",
      " 7   Duration         10683 non-null  object\n",
      " 8   Total_Stops      10682 non-null  object\n",
      " 9   Additional_Info  10683 non-null  object\n",
      " 10  Price            10683 non-null  int64 \n",
      "dtypes: int64(1), object(10)\n",
      "memory usage: 918.2+ KB\n"
     ]
    }
   ],
   "source": [
    "df.info()"
   ]
  },
  {
   "cell_type": "markdown",
   "id": "a37c0fc2",
   "metadata": {},
   "source": [
    "Conlusion:\n",
    "Our dataset has 11 categorical features, so we'll have to convert it into numerical features in order to train our model"
   ]
  },
  {
   "cell_type": "code",
   "execution_count": 7,
   "id": "60485efe",
   "metadata": {},
   "outputs": [
    {
     "data": {
      "text/html": [
       "<div>\n",
       "<style scoped>\n",
       "    .dataframe tbody tr th:only-of-type {\n",
       "        vertical-align: middle;\n",
       "    }\n",
       "\n",
       "    .dataframe tbody tr th {\n",
       "        vertical-align: top;\n",
       "    }\n",
       "\n",
       "    .dataframe thead th {\n",
       "        text-align: right;\n",
       "    }\n",
       "</style>\n",
       "<table border=\"1\" class=\"dataframe\">\n",
       "  <thead>\n",
       "    <tr style=\"text-align: right;\">\n",
       "      <th></th>\n",
       "      <th>Price</th>\n",
       "    </tr>\n",
       "  </thead>\n",
       "  <tbody>\n",
       "    <tr>\n",
       "      <th>count</th>\n",
       "      <td>10683.000000</td>\n",
       "    </tr>\n",
       "    <tr>\n",
       "      <th>mean</th>\n",
       "      <td>9087.064121</td>\n",
       "    </tr>\n",
       "    <tr>\n",
       "      <th>std</th>\n",
       "      <td>4611.359167</td>\n",
       "    </tr>\n",
       "    <tr>\n",
       "      <th>min</th>\n",
       "      <td>1759.000000</td>\n",
       "    </tr>\n",
       "    <tr>\n",
       "      <th>25%</th>\n",
       "      <td>5277.000000</td>\n",
       "    </tr>\n",
       "    <tr>\n",
       "      <th>50%</th>\n",
       "      <td>8372.000000</td>\n",
       "    </tr>\n",
       "    <tr>\n",
       "      <th>75%</th>\n",
       "      <td>12373.000000</td>\n",
       "    </tr>\n",
       "    <tr>\n",
       "      <th>max</th>\n",
       "      <td>79512.000000</td>\n",
       "    </tr>\n",
       "  </tbody>\n",
       "</table>\n",
       "</div>"
      ],
      "text/plain": [
       "              Price\n",
       "count  10683.000000\n",
       "mean    9087.064121\n",
       "std     4611.359167\n",
       "min     1759.000000\n",
       "25%     5277.000000\n",
       "50%     8372.000000\n",
       "75%    12373.000000\n",
       "max    79512.000000"
      ]
     },
     "execution_count": 7,
     "metadata": {},
     "output_type": "execute_result"
    }
   ],
   "source": [
    "# details of numerical features of our dataset\n",
    "df.describe()"
   ]
  },
  {
   "cell_type": "code",
   "execution_count": 8,
   "id": "704bf4c0",
   "metadata": {},
   "outputs": [
    {
     "data": {
      "text/plain": [
       "Airline            0\n",
       "Date_of_Journey    0\n",
       "Source             0\n",
       "Destination        0\n",
       "Route              1\n",
       "Dep_Time           0\n",
       "Arrival_Time       0\n",
       "Duration           0\n",
       "Total_Stops        1\n",
       "Additional_Info    0\n",
       "Price              0\n",
       "dtype: int64"
      ]
     },
     "execution_count": 8,
     "metadata": {},
     "output_type": "execute_result"
    }
   ],
   "source": [
    "# checking null values\n",
    "\n",
    "df.isnull().sum()"
   ]
  },
  {
   "cell_type": "markdown",
   "id": "a44e05ff",
   "metadata": {},
   "source": [
    "here we can simply delete the rows because the proportion of missing values is very very less."
   ]
  },
  {
   "cell_type": "code",
   "execution_count": 9,
   "id": "d48e77ff",
   "metadata": {},
   "outputs": [],
   "source": [
    "# deleting the null values\n",
    "\n",
    "df.dropna(inplace=True)"
   ]
  },
  {
   "cell_type": "code",
   "execution_count": 10,
   "id": "b174b26c",
   "metadata": {},
   "outputs": [
    {
     "data": {
      "text/plain": [
       "(10682, 11)"
      ]
     },
     "execution_count": 10,
     "metadata": {},
     "output_type": "execute_result"
    }
   ],
   "source": [
    "df.shape"
   ]
  },
  {
   "cell_type": "code",
   "execution_count": 11,
   "id": "968cbf73",
   "metadata": {},
   "outputs": [
    {
     "name": "stdout",
     "output_type": "stream",
     "text": [
      "<class 'pandas.core.frame.DataFrame'>\n",
      "Int64Index: 10682 entries, 0 to 10682\n",
      "Data columns (total 11 columns):\n",
      " #   Column           Non-Null Count  Dtype \n",
      "---  ------           --------------  ----- \n",
      " 0   Airline          10682 non-null  object\n",
      " 1   Date_of_Journey  10682 non-null  object\n",
      " 2   Source           10682 non-null  object\n",
      " 3   Destination      10682 non-null  object\n",
      " 4   Route            10682 non-null  object\n",
      " 5   Dep_Time         10682 non-null  object\n",
      " 6   Arrival_Time     10682 non-null  object\n",
      " 7   Duration         10682 non-null  object\n",
      " 8   Total_Stops      10682 non-null  object\n",
      " 9   Additional_Info  10682 non-null  object\n",
      " 10  Price            10682 non-null  int64 \n",
      "dtypes: int64(1), object(10)\n",
      "memory usage: 1001.4+ KB\n"
     ]
    }
   ],
   "source": [
    "df.info()"
   ]
  },
  {
   "cell_type": "code",
   "execution_count": 12,
   "id": "9eb601d0",
   "metadata": {},
   "outputs": [
    {
     "data": {
      "text/plain": [
       "0        [24, 03, 2019]\n",
       "1         [1, 05, 2019]\n",
       "2         [9, 06, 2019]\n",
       "3        [12, 05, 2019]\n",
       "4        [01, 03, 2019]\n",
       "              ...      \n",
       "10678     [9, 04, 2019]\n",
       "10679    [27, 04, 2019]\n",
       "10680    [27, 04, 2019]\n",
       "10681    [01, 03, 2019]\n",
       "10682     [9, 05, 2019]\n",
       "Name: Date_of_Journey, Length: 10682, dtype: object"
      ]
     },
     "execution_count": 12,
     "metadata": {},
     "output_type": "execute_result"
    }
   ],
   "source": [
    "# Taking feature Date_of_Journey\n",
    "# here we can see that the datatype of Date_of_Journey is object/ string. our model can't understand this\n",
    "# se we'll have to convert this data into numerical form by using followwing steps.\n",
    "\n",
    "df['Date_of_Journey'].str.split('/') #breaking the string where / is coming"
   ]
  },
  {
   "cell_type": "code",
   "execution_count": 13,
   "id": "dfa1220b",
   "metadata": {},
   "outputs": [],
   "source": [
    "df['Date']=df['Date_of_Journey'].str.split('/').str[0]\n",
    "df['Month']=df['Date_of_Journey'].str.split('/').str[1]\n",
    "df['Year']=df['Date_of_Journey'].str.split('/').str[2]"
   ]
  },
  {
   "cell_type": "code",
   "execution_count": 14,
   "id": "92429459",
   "metadata": {},
   "outputs": [
    {
     "data": {
      "text/html": [
       "<div>\n",
       "<style scoped>\n",
       "    .dataframe tbody tr th:only-of-type {\n",
       "        vertical-align: middle;\n",
       "    }\n",
       "\n",
       "    .dataframe tbody tr th {\n",
       "        vertical-align: top;\n",
       "    }\n",
       "\n",
       "    .dataframe thead th {\n",
       "        text-align: right;\n",
       "    }\n",
       "</style>\n",
       "<table border=\"1\" class=\"dataframe\">\n",
       "  <thead>\n",
       "    <tr style=\"text-align: right;\">\n",
       "      <th></th>\n",
       "      <th>Airline</th>\n",
       "      <th>Date_of_Journey</th>\n",
       "      <th>Source</th>\n",
       "      <th>Destination</th>\n",
       "      <th>Route</th>\n",
       "      <th>Dep_Time</th>\n",
       "      <th>Arrival_Time</th>\n",
       "      <th>Duration</th>\n",
       "      <th>Total_Stops</th>\n",
       "      <th>Additional_Info</th>\n",
       "      <th>Price</th>\n",
       "      <th>Date</th>\n",
       "      <th>Month</th>\n",
       "      <th>Year</th>\n",
       "    </tr>\n",
       "  </thead>\n",
       "  <tbody>\n",
       "    <tr>\n",
       "      <th>0</th>\n",
       "      <td>IndiGo</td>\n",
       "      <td>24/03/2019</td>\n",
       "      <td>Banglore</td>\n",
       "      <td>New Delhi</td>\n",
       "      <td>BLR → DEL</td>\n",
       "      <td>22:20</td>\n",
       "      <td>01:10 22 Mar</td>\n",
       "      <td>2h 50m</td>\n",
       "      <td>non-stop</td>\n",
       "      <td>No info</td>\n",
       "      <td>3897</td>\n",
       "      <td>24</td>\n",
       "      <td>03</td>\n",
       "      <td>2019</td>\n",
       "    </tr>\n",
       "    <tr>\n",
       "      <th>1</th>\n",
       "      <td>Air India</td>\n",
       "      <td>1/05/2019</td>\n",
       "      <td>Kolkata</td>\n",
       "      <td>Banglore</td>\n",
       "      <td>CCU → IXR → BBI → BLR</td>\n",
       "      <td>05:50</td>\n",
       "      <td>13:15</td>\n",
       "      <td>7h 25m</td>\n",
       "      <td>2 stops</td>\n",
       "      <td>No info</td>\n",
       "      <td>7662</td>\n",
       "      <td>1</td>\n",
       "      <td>05</td>\n",
       "      <td>2019</td>\n",
       "    </tr>\n",
       "    <tr>\n",
       "      <th>2</th>\n",
       "      <td>Jet Airways</td>\n",
       "      <td>9/06/2019</td>\n",
       "      <td>Delhi</td>\n",
       "      <td>Cochin</td>\n",
       "      <td>DEL → LKO → BOM → COK</td>\n",
       "      <td>09:25</td>\n",
       "      <td>04:25 10 Jun</td>\n",
       "      <td>19h</td>\n",
       "      <td>2 stops</td>\n",
       "      <td>No info</td>\n",
       "      <td>13882</td>\n",
       "      <td>9</td>\n",
       "      <td>06</td>\n",
       "      <td>2019</td>\n",
       "    </tr>\n",
       "    <tr>\n",
       "      <th>3</th>\n",
       "      <td>IndiGo</td>\n",
       "      <td>12/05/2019</td>\n",
       "      <td>Kolkata</td>\n",
       "      <td>Banglore</td>\n",
       "      <td>CCU → NAG → BLR</td>\n",
       "      <td>18:05</td>\n",
       "      <td>23:30</td>\n",
       "      <td>5h 25m</td>\n",
       "      <td>1 stop</td>\n",
       "      <td>No info</td>\n",
       "      <td>6218</td>\n",
       "      <td>12</td>\n",
       "      <td>05</td>\n",
       "      <td>2019</td>\n",
       "    </tr>\n",
       "    <tr>\n",
       "      <th>4</th>\n",
       "      <td>IndiGo</td>\n",
       "      <td>01/03/2019</td>\n",
       "      <td>Banglore</td>\n",
       "      <td>New Delhi</td>\n",
       "      <td>BLR → NAG → DEL</td>\n",
       "      <td>16:50</td>\n",
       "      <td>21:35</td>\n",
       "      <td>4h 45m</td>\n",
       "      <td>1 stop</td>\n",
       "      <td>No info</td>\n",
       "      <td>13302</td>\n",
       "      <td>01</td>\n",
       "      <td>03</td>\n",
       "      <td>2019</td>\n",
       "    </tr>\n",
       "  </tbody>\n",
       "</table>\n",
       "</div>"
      ],
      "text/plain": [
       "       Airline Date_of_Journey    Source Destination                  Route  \\\n",
       "0       IndiGo      24/03/2019  Banglore   New Delhi              BLR → DEL   \n",
       "1    Air India       1/05/2019   Kolkata    Banglore  CCU → IXR → BBI → BLR   \n",
       "2  Jet Airways       9/06/2019     Delhi      Cochin  DEL → LKO → BOM → COK   \n",
       "3       IndiGo      12/05/2019   Kolkata    Banglore        CCU → NAG → BLR   \n",
       "4       IndiGo      01/03/2019  Banglore   New Delhi        BLR → NAG → DEL   \n",
       "\n",
       "  Dep_Time  Arrival_Time Duration Total_Stops Additional_Info  Price Date  \\\n",
       "0    22:20  01:10 22 Mar   2h 50m    non-stop         No info   3897   24   \n",
       "1    05:50         13:15   7h 25m     2 stops         No info   7662    1   \n",
       "2    09:25  04:25 10 Jun      19h     2 stops         No info  13882    9   \n",
       "3    18:05         23:30   5h 25m      1 stop         No info   6218   12   \n",
       "4    16:50         21:35   4h 45m      1 stop         No info  13302   01   \n",
       "\n",
       "  Month  Year  \n",
       "0    03  2019  \n",
       "1    05  2019  \n",
       "2    06  2019  \n",
       "3    05  2019  \n",
       "4    03  2019  "
      ]
     },
     "execution_count": 14,
     "metadata": {},
     "output_type": "execute_result"
    }
   ],
   "source": [
    "df.head()"
   ]
  },
  {
   "cell_type": "code",
   "execution_count": 15,
   "id": "ad895bec",
   "metadata": {},
   "outputs": [],
   "source": [
    "# now we can easily drop our column 'Date_of_Journey'\n",
    "\n",
    "df.drop(['Date_of_Journey'], axis=1, inplace=True)"
   ]
  },
  {
   "cell_type": "code",
   "execution_count": 16,
   "id": "fbdf626e",
   "metadata": {},
   "outputs": [
    {
     "data": {
      "text/html": [
       "<div>\n",
       "<style scoped>\n",
       "    .dataframe tbody tr th:only-of-type {\n",
       "        vertical-align: middle;\n",
       "    }\n",
       "\n",
       "    .dataframe tbody tr th {\n",
       "        vertical-align: top;\n",
       "    }\n",
       "\n",
       "    .dataframe thead th {\n",
       "        text-align: right;\n",
       "    }\n",
       "</style>\n",
       "<table border=\"1\" class=\"dataframe\">\n",
       "  <thead>\n",
       "    <tr style=\"text-align: right;\">\n",
       "      <th></th>\n",
       "      <th>Airline</th>\n",
       "      <th>Source</th>\n",
       "      <th>Destination</th>\n",
       "      <th>Route</th>\n",
       "      <th>Dep_Time</th>\n",
       "      <th>Arrival_Time</th>\n",
       "      <th>Duration</th>\n",
       "      <th>Total_Stops</th>\n",
       "      <th>Additional_Info</th>\n",
       "      <th>Price</th>\n",
       "      <th>Date</th>\n",
       "      <th>Month</th>\n",
       "      <th>Year</th>\n",
       "    </tr>\n",
       "  </thead>\n",
       "  <tbody>\n",
       "    <tr>\n",
       "      <th>0</th>\n",
       "      <td>IndiGo</td>\n",
       "      <td>Banglore</td>\n",
       "      <td>New Delhi</td>\n",
       "      <td>BLR → DEL</td>\n",
       "      <td>22:20</td>\n",
       "      <td>01:10 22 Mar</td>\n",
       "      <td>2h 50m</td>\n",
       "      <td>non-stop</td>\n",
       "      <td>No info</td>\n",
       "      <td>3897</td>\n",
       "      <td>24</td>\n",
       "      <td>03</td>\n",
       "      <td>2019</td>\n",
       "    </tr>\n",
       "    <tr>\n",
       "      <th>1</th>\n",
       "      <td>Air India</td>\n",
       "      <td>Kolkata</td>\n",
       "      <td>Banglore</td>\n",
       "      <td>CCU → IXR → BBI → BLR</td>\n",
       "      <td>05:50</td>\n",
       "      <td>13:15</td>\n",
       "      <td>7h 25m</td>\n",
       "      <td>2 stops</td>\n",
       "      <td>No info</td>\n",
       "      <td>7662</td>\n",
       "      <td>1</td>\n",
       "      <td>05</td>\n",
       "      <td>2019</td>\n",
       "    </tr>\n",
       "    <tr>\n",
       "      <th>2</th>\n",
       "      <td>Jet Airways</td>\n",
       "      <td>Delhi</td>\n",
       "      <td>Cochin</td>\n",
       "      <td>DEL → LKO → BOM → COK</td>\n",
       "      <td>09:25</td>\n",
       "      <td>04:25 10 Jun</td>\n",
       "      <td>19h</td>\n",
       "      <td>2 stops</td>\n",
       "      <td>No info</td>\n",
       "      <td>13882</td>\n",
       "      <td>9</td>\n",
       "      <td>06</td>\n",
       "      <td>2019</td>\n",
       "    </tr>\n",
       "    <tr>\n",
       "      <th>3</th>\n",
       "      <td>IndiGo</td>\n",
       "      <td>Kolkata</td>\n",
       "      <td>Banglore</td>\n",
       "      <td>CCU → NAG → BLR</td>\n",
       "      <td>18:05</td>\n",
       "      <td>23:30</td>\n",
       "      <td>5h 25m</td>\n",
       "      <td>1 stop</td>\n",
       "      <td>No info</td>\n",
       "      <td>6218</td>\n",
       "      <td>12</td>\n",
       "      <td>05</td>\n",
       "      <td>2019</td>\n",
       "    </tr>\n",
       "    <tr>\n",
       "      <th>4</th>\n",
       "      <td>IndiGo</td>\n",
       "      <td>Banglore</td>\n",
       "      <td>New Delhi</td>\n",
       "      <td>BLR → NAG → DEL</td>\n",
       "      <td>16:50</td>\n",
       "      <td>21:35</td>\n",
       "      <td>4h 45m</td>\n",
       "      <td>1 stop</td>\n",
       "      <td>No info</td>\n",
       "      <td>13302</td>\n",
       "      <td>01</td>\n",
       "      <td>03</td>\n",
       "      <td>2019</td>\n",
       "    </tr>\n",
       "  </tbody>\n",
       "</table>\n",
       "</div>"
      ],
      "text/plain": [
       "       Airline    Source Destination                  Route Dep_Time  \\\n",
       "0       IndiGo  Banglore   New Delhi              BLR → DEL    22:20   \n",
       "1    Air India   Kolkata    Banglore  CCU → IXR → BBI → BLR    05:50   \n",
       "2  Jet Airways     Delhi      Cochin  DEL → LKO → BOM → COK    09:25   \n",
       "3       IndiGo   Kolkata    Banglore        CCU → NAG → BLR    18:05   \n",
       "4       IndiGo  Banglore   New Delhi        BLR → NAG → DEL    16:50   \n",
       "\n",
       "   Arrival_Time Duration Total_Stops Additional_Info  Price Date Month  Year  \n",
       "0  01:10 22 Mar   2h 50m    non-stop         No info   3897   24    03  2019  \n",
       "1         13:15   7h 25m     2 stops         No info   7662    1    05  2019  \n",
       "2  04:25 10 Jun      19h     2 stops         No info  13882    9    06  2019  \n",
       "3         23:30   5h 25m      1 stop         No info   6218   12    05  2019  \n",
       "4         21:35   4h 45m      1 stop         No info  13302   01    03  2019  "
      ]
     },
     "execution_count": 16,
     "metadata": {},
     "output_type": "execute_result"
    }
   ],
   "source": [
    "df.head()"
   ]
  },
  {
   "cell_type": "code",
   "execution_count": 17,
   "id": "790a63d6",
   "metadata": {},
   "outputs": [
    {
     "name": "stdout",
     "output_type": "stream",
     "text": [
      "<class 'pandas.core.frame.DataFrame'>\n",
      "Int64Index: 10682 entries, 0 to 10682\n",
      "Data columns (total 13 columns):\n",
      " #   Column           Non-Null Count  Dtype \n",
      "---  ------           --------------  ----- \n",
      " 0   Airline          10682 non-null  object\n",
      " 1   Source           10682 non-null  object\n",
      " 2   Destination      10682 non-null  object\n",
      " 3   Route            10682 non-null  object\n",
      " 4   Dep_Time         10682 non-null  object\n",
      " 5   Arrival_Time     10682 non-null  object\n",
      " 6   Duration         10682 non-null  object\n",
      " 7   Total_Stops      10682 non-null  object\n",
      " 8   Additional_Info  10682 non-null  object\n",
      " 9   Price            10682 non-null  int64 \n",
      " 10  Date             10682 non-null  object\n",
      " 11  Month            10682 non-null  object\n",
      " 12  Year             10682 non-null  object\n",
      "dtypes: int64(1), object(12)\n",
      "memory usage: 1.1+ MB\n"
     ]
    }
   ],
   "source": [
    "# checking the data again\n",
    "df.info()"
   ]
  },
  {
   "cell_type": "code",
   "execution_count": 18,
   "id": "7b07d8eb",
   "metadata": {},
   "outputs": [],
   "source": [
    "# here we can see that our features Date, Month and Year are object type. we'll have to convert them into numerical field.\n",
    "\n",
    "df['Date']=df['Date'].astype(int)\n",
    "df['Month']=df['Month'].astype(int)\n",
    "df['Year']=df['Year'].astype(int)"
   ]
  },
  {
   "cell_type": "code",
   "execution_count": 19,
   "id": "63ff6b2c",
   "metadata": {},
   "outputs": [
    {
     "name": "stdout",
     "output_type": "stream",
     "text": [
      "<class 'pandas.core.frame.DataFrame'>\n",
      "Int64Index: 10682 entries, 0 to 10682\n",
      "Data columns (total 13 columns):\n",
      " #   Column           Non-Null Count  Dtype \n",
      "---  ------           --------------  ----- \n",
      " 0   Airline          10682 non-null  object\n",
      " 1   Source           10682 non-null  object\n",
      " 2   Destination      10682 non-null  object\n",
      " 3   Route            10682 non-null  object\n",
      " 4   Dep_Time         10682 non-null  object\n",
      " 5   Arrival_Time     10682 non-null  object\n",
      " 6   Duration         10682 non-null  object\n",
      " 7   Total_Stops      10682 non-null  object\n",
      " 8   Additional_Info  10682 non-null  object\n",
      " 9   Price            10682 non-null  int64 \n",
      " 10  Date             10682 non-null  int32 \n",
      " 11  Month            10682 non-null  int32 \n",
      " 12  Year             10682 non-null  int32 \n",
      "dtypes: int32(3), int64(1), object(9)\n",
      "memory usage: 1.0+ MB\n"
     ]
    }
   ],
   "source": [
    "df.info()"
   ]
  },
  {
   "cell_type": "code",
   "execution_count": 20,
   "id": "2de9eb10",
   "metadata": {},
   "outputs": [
    {
     "data": {
      "text/plain": [
       "dtype('O')"
      ]
     },
     "execution_count": 20,
     "metadata": {},
     "output_type": "execute_result"
    }
   ],
   "source": [
    "# now we'll take feature Departure time\n",
    "\n",
    "df['Dep_Time'].dtype"
   ]
  },
  {
   "cell_type": "code",
   "execution_count": 21,
   "id": "3f9d0bc1",
   "metadata": {},
   "outputs": [
    {
     "data": {
      "text/plain": [
       "array(['22:20', '05:50', '09:25', '18:05', '16:50', '09:00', '18:55',\n",
       "       '08:00', '08:55', '11:25', '09:45', '20:20', '11:40', '21:10',\n",
       "       '17:15', '16:40', '08:45', '14:00', '20:15', '16:00', '14:10',\n",
       "       '22:00', '04:00', '21:25', '21:50', '07:00', '07:05', '09:50',\n",
       "       '14:35', '10:35', '15:05', '14:15', '06:45', '20:55', '11:10',\n",
       "       '05:45', '19:00', '23:05', '11:00', '09:35', '21:15', '23:55',\n",
       "       '19:45', '08:50', '15:40', '06:05', '15:00', '13:55', '05:55',\n",
       "       '13:20', '05:05', '06:25', '17:30', '08:20', '19:55', '06:30',\n",
       "       '14:05', '02:00', '09:40', '08:25', '20:25', '13:15', '02:15',\n",
       "       '16:55', '20:45', '05:15', '19:50', '20:00', '06:10', '19:30',\n",
       "       '04:45', '12:55', '18:15', '17:20', '15:25', '23:00', '12:00',\n",
       "       '14:45', '11:50', '11:30', '14:40', '19:10', '06:00', '23:30',\n",
       "       '07:35', '13:05', '12:30', '15:10', '12:50', '18:25', '16:30',\n",
       "       '00:40', '06:50', '13:00', '19:15', '01:30', '17:00', '10:00',\n",
       "       '19:35', '15:30', '12:10', '16:10', '20:35', '22:25', '21:05',\n",
       "       '05:35', '05:10', '06:40', '15:15', '00:30', '08:30', '07:10',\n",
       "       '05:30', '14:25', '05:25', '10:20', '17:45', '13:10', '22:10',\n",
       "       '04:55', '17:50', '21:20', '06:20', '15:55', '20:30', '17:25',\n",
       "       '09:30', '07:30', '02:35', '10:55', '17:10', '09:10', '18:45',\n",
       "       '15:20', '22:50', '14:55', '14:20', '13:25', '22:15', '11:05',\n",
       "       '16:15', '20:10', '06:55', '19:05', '07:55', '07:45', '10:10',\n",
       "       '08:15', '11:35', '21:00', '17:55', '16:45', '18:20', '03:50',\n",
       "       '08:35', '19:20', '20:05', '17:40', '04:40', '17:35', '09:55',\n",
       "       '05:00', '18:00', '02:55', '20:40', '22:55', '22:40', '21:30',\n",
       "       '08:10', '17:05', '07:25', '15:45', '09:15', '15:50', '11:45',\n",
       "       '22:05', '18:35', '00:25', '19:40', '20:50', '22:45', '10:30',\n",
       "       '23:25', '11:55', '10:45', '11:15', '12:20', '14:30', '07:15',\n",
       "       '01:35', '18:40', '09:20', '21:55', '13:50', '01:40', '00:20',\n",
       "       '04:15', '13:45', '18:30', '06:15', '02:05', '12:15', '13:30',\n",
       "       '06:35', '10:05', '08:40', '03:05', '21:35', '16:35', '02:30',\n",
       "       '16:25', '05:40', '15:35', '13:40', '07:20', '04:50', '12:45',\n",
       "       '10:25', '12:05', '11:20', '21:40', '03:00'], dtype=object)"
      ]
     },
     "execution_count": 21,
     "metadata": {},
     "output_type": "execute_result"
    }
   ],
   "source": [
    "df['Dep_Time'].unique()"
   ]
  },
  {
   "cell_type": "code",
   "execution_count": 22,
   "id": "81d13962",
   "metadata": {},
   "outputs": [],
   "source": [
    "# here we'll seperate hrs and minutes from Dep_time\n",
    "\n",
    "df['Dep_hrs']=df['Dep_Time'].str.split(':').str[0].astype(int)\n",
    "df['Dep_min']=df['Dep_Time'].str.split(':').str[1].astype(int)"
   ]
  },
  {
   "cell_type": "code",
   "execution_count": 23,
   "id": "3683adfb",
   "metadata": {},
   "outputs": [
    {
     "data": {
      "text/html": [
       "<div>\n",
       "<style scoped>\n",
       "    .dataframe tbody tr th:only-of-type {\n",
       "        vertical-align: middle;\n",
       "    }\n",
       "\n",
       "    .dataframe tbody tr th {\n",
       "        vertical-align: top;\n",
       "    }\n",
       "\n",
       "    .dataframe thead th {\n",
       "        text-align: right;\n",
       "    }\n",
       "</style>\n",
       "<table border=\"1\" class=\"dataframe\">\n",
       "  <thead>\n",
       "    <tr style=\"text-align: right;\">\n",
       "      <th></th>\n",
       "      <th>Airline</th>\n",
       "      <th>Source</th>\n",
       "      <th>Destination</th>\n",
       "      <th>Route</th>\n",
       "      <th>Dep_Time</th>\n",
       "      <th>Arrival_Time</th>\n",
       "      <th>Duration</th>\n",
       "      <th>Total_Stops</th>\n",
       "      <th>Additional_Info</th>\n",
       "      <th>Price</th>\n",
       "      <th>Date</th>\n",
       "      <th>Month</th>\n",
       "      <th>Year</th>\n",
       "      <th>Dep_hrs</th>\n",
       "      <th>Dep_min</th>\n",
       "    </tr>\n",
       "  </thead>\n",
       "  <tbody>\n",
       "    <tr>\n",
       "      <th>0</th>\n",
       "      <td>IndiGo</td>\n",
       "      <td>Banglore</td>\n",
       "      <td>New Delhi</td>\n",
       "      <td>BLR → DEL</td>\n",
       "      <td>22:20</td>\n",
       "      <td>01:10 22 Mar</td>\n",
       "      <td>2h 50m</td>\n",
       "      <td>non-stop</td>\n",
       "      <td>No info</td>\n",
       "      <td>3897</td>\n",
       "      <td>24</td>\n",
       "      <td>3</td>\n",
       "      <td>2019</td>\n",
       "      <td>22</td>\n",
       "      <td>20</td>\n",
       "    </tr>\n",
       "    <tr>\n",
       "      <th>1</th>\n",
       "      <td>Air India</td>\n",
       "      <td>Kolkata</td>\n",
       "      <td>Banglore</td>\n",
       "      <td>CCU → IXR → BBI → BLR</td>\n",
       "      <td>05:50</td>\n",
       "      <td>13:15</td>\n",
       "      <td>7h 25m</td>\n",
       "      <td>2 stops</td>\n",
       "      <td>No info</td>\n",
       "      <td>7662</td>\n",
       "      <td>1</td>\n",
       "      <td>5</td>\n",
       "      <td>2019</td>\n",
       "      <td>5</td>\n",
       "      <td>50</td>\n",
       "    </tr>\n",
       "  </tbody>\n",
       "</table>\n",
       "</div>"
      ],
      "text/plain": [
       "     Airline    Source Destination                  Route Dep_Time  \\\n",
       "0     IndiGo  Banglore   New Delhi              BLR → DEL    22:20   \n",
       "1  Air India   Kolkata    Banglore  CCU → IXR → BBI → BLR    05:50   \n",
       "\n",
       "   Arrival_Time Duration Total_Stops Additional_Info  Price  Date  Month  \\\n",
       "0  01:10 22 Mar   2h 50m    non-stop         No info   3897    24      3   \n",
       "1         13:15   7h 25m     2 stops         No info   7662     1      5   \n",
       "\n",
       "   Year  Dep_hrs  Dep_min  \n",
       "0  2019       22       20  \n",
       "1  2019        5       50  "
      ]
     },
     "execution_count": 23,
     "metadata": {},
     "output_type": "execute_result"
    }
   ],
   "source": [
    "df.head(2)"
   ]
  },
  {
   "cell_type": "code",
   "execution_count": 24,
   "id": "4134d2ff",
   "metadata": {},
   "outputs": [
    {
     "name": "stdout",
     "output_type": "stream",
     "text": [
      "<class 'pandas.core.frame.DataFrame'>\n",
      "Int64Index: 10682 entries, 0 to 10682\n",
      "Data columns (total 15 columns):\n",
      " #   Column           Non-Null Count  Dtype \n",
      "---  ------           --------------  ----- \n",
      " 0   Airline          10682 non-null  object\n",
      " 1   Source           10682 non-null  object\n",
      " 2   Destination      10682 non-null  object\n",
      " 3   Route            10682 non-null  object\n",
      " 4   Dep_Time         10682 non-null  object\n",
      " 5   Arrival_Time     10682 non-null  object\n",
      " 6   Duration         10682 non-null  object\n",
      " 7   Total_Stops      10682 non-null  object\n",
      " 8   Additional_Info  10682 non-null  object\n",
      " 9   Price            10682 non-null  int64 \n",
      " 10  Date             10682 non-null  int32 \n",
      " 11  Month            10682 non-null  int32 \n",
      " 12  Year             10682 non-null  int32 \n",
      " 13  Dep_hrs          10682 non-null  int32 \n",
      " 14  Dep_min          10682 non-null  int32 \n",
      "dtypes: int32(5), int64(1), object(9)\n",
      "memory usage: 1.1+ MB\n"
     ]
    }
   ],
   "source": [
    "df.info()"
   ]
  },
  {
   "cell_type": "code",
   "execution_count": 25,
   "id": "14eae06a",
   "metadata": {},
   "outputs": [],
   "source": [
    "# Now we can drop Dep_Time column\n",
    "df.drop(['Dep_Time'], axis=1, inplace=True)"
   ]
  },
  {
   "cell_type": "code",
   "execution_count": 26,
   "id": "406f49d2",
   "metadata": {},
   "outputs": [
    {
     "name": "stdout",
     "output_type": "stream",
     "text": [
      "<class 'pandas.core.frame.DataFrame'>\n",
      "Int64Index: 10682 entries, 0 to 10682\n",
      "Data columns (total 14 columns):\n",
      " #   Column           Non-Null Count  Dtype \n",
      "---  ------           --------------  ----- \n",
      " 0   Airline          10682 non-null  object\n",
      " 1   Source           10682 non-null  object\n",
      " 2   Destination      10682 non-null  object\n",
      " 3   Route            10682 non-null  object\n",
      " 4   Arrival_Time     10682 non-null  object\n",
      " 5   Duration         10682 non-null  object\n",
      " 6   Total_Stops      10682 non-null  object\n",
      " 7   Additional_Info  10682 non-null  object\n",
      " 8   Price            10682 non-null  int64 \n",
      " 9   Date             10682 non-null  int32 \n",
      " 10  Month            10682 non-null  int32 \n",
      " 11  Year             10682 non-null  int32 \n",
      " 12  Dep_hrs          10682 non-null  int32 \n",
      " 13  Dep_min          10682 non-null  int32 \n",
      "dtypes: int32(5), int64(1), object(8)\n",
      "memory usage: 1.0+ MB\n"
     ]
    }
   ],
   "source": [
    "df.info()"
   ]
  },
  {
   "cell_type": "code",
   "execution_count": 27,
   "id": "47105604",
   "metadata": {},
   "outputs": [
    {
     "data": {
      "text/plain": [
       "array(['01:10 22 Mar', '13:15', '04:25 10 Jun', ..., '06:50 10 Mar',\n",
       "       '00:05 19 Mar', '21:20 13 Mar'], dtype=object)"
      ]
     },
     "execution_count": 27,
     "metadata": {},
     "output_type": "execute_result"
    }
   ],
   "source": [
    "# same thing we can do to Arrival_time\n",
    "\n",
    "df['Arrival_Time'].unique()"
   ]
  },
  {
   "cell_type": "code",
   "execution_count": 28,
   "id": "8e39349f",
   "metadata": {},
   "outputs": [],
   "source": [
    "# fearture 'Arrival_time' has values with date also so we'll have to split the time in hrs and min and avoid date\n",
    "\n",
    "df['arr_time']=df['Arrival_Time'].str.split(' ').str[0] # it'll remove date data"
   ]
  },
  {
   "cell_type": "code",
   "execution_count": 29,
   "id": "44519718",
   "metadata": {},
   "outputs": [
    {
     "data": {
      "text/plain": [
       "array(['01:10', '13:15', '04:25', '23:30', '21:35', '11:25', '10:25',\n",
       "       '05:05', '19:15', '23:00', '22:55', '13:55', '09:20', '19:50',\n",
       "       '12:35', '19:20', '13:20', '06:50', '21:50', '08:15', '03:35',\n",
       "       '12:55', '23:15', '21:00', '20:20', '16:45', '19:00', '18:10',\n",
       "       '15:15', '08:35', '11:05', '14:15', '10:55', '00:15', '02:45',\n",
       "       '12:00', '23:55', '01:30', '09:25', '15:25', '15:35', '08:30',\n",
       "       '10:05', '14:30', '07:55', '10:35', '22:35', '04:40', '07:25',\n",
       "       '20:45', '14:25', '22:30', '23:20', '07:40', '22:50', '14:35',\n",
       "       '08:55', '18:50', '09:05', '01:35', '09:40', '16:25', '11:10',\n",
       "       '17:05', '17:50', '23:10', '08:45', '07:45', '16:10', '00:55',\n",
       "       '23:35', '20:00', '00:40', '21:45', '18:15', '03:25', '04:15',\n",
       "       '21:10', '21:05', '09:45', '18:05', '22:00', '15:30', '08:50',\n",
       "       '08:00', '19:35', '11:20', '10:15', '12:45', '02:20', '07:15',\n",
       "       '11:50', '18:30', '19:45', '21:20', '20:05', '09:10', '22:20',\n",
       "       '10:10', '01:00', '23:50', '12:20', '20:25', '22:45', '21:25',\n",
       "       '14:05', '00:05', '19:55', '16:20', '07:05', '19:10', '12:05',\n",
       "       '04:05', '19:40', '17:55', '17:25', '00:30', '23:40', '23:05',\n",
       "       '00:50', '13:45', '09:15', '20:35', '07:10', '09:35', '14:20',\n",
       "       '04:45', '10:30', '19:25', '05:35', '09:00', '22:40', '14:45',\n",
       "       '13:25', '21:55', '10:45', '10:40', '13:00', '22:10', '18:35',\n",
       "       '05:25', '22:15', '12:10', '12:15', '14:00', '02:15', '12:50',\n",
       "       '17:15', '07:35', '23:45', '22:25', '12:25', '06:35', '01:20',\n",
       "       '18:45', '09:30', '04:20', '10:50', '23:25', '22:05', '13:30',\n",
       "       '13:35', '17:35', '08:20', '18:25', '10:20', '15:50', '11:30',\n",
       "       '14:10', '00:25', '03:15', '15:55', '00:45', '04:35', '18:00',\n",
       "       '12:30', '02:10', '00:20', '21:40', '08:40', '16:55', '20:30',\n",
       "       '17:20', '00:35', '20:15', '14:50', '13:40', '16:50', '15:05',\n",
       "       '17:45', '18:40', '03:10', '16:40', '09:50', '13:05', '17:40',\n",
       "       '20:40', '17:10', '20:50', '00:10', '08:10', '16:15', '16:05',\n",
       "       '10:00', '16:35', '18:20', '04:00', '21:15', '14:40', '01:45',\n",
       "       '16:30', '11:55', '15:20', '20:10', '15:00', '15:45', '12:40',\n",
       "       '15:10', '13:10', '11:15', '03:40', '16:00', '11:35'], dtype=object)"
      ]
     },
     "execution_count": 29,
     "metadata": {},
     "output_type": "execute_result"
    }
   ],
   "source": [
    "df['arr_time'].unique()"
   ]
  },
  {
   "cell_type": "code",
   "execution_count": 30,
   "id": "07011048",
   "metadata": {},
   "outputs": [],
   "source": [
    "df['Arr_Hrs']=df['arr_time'].str.split(':').str[0].astype(int)\n",
    "df['Arr_Min']=df['arr_time'].str.split(':').str[1].astype(int)\n",
    "\n",
    "# or in single step\n",
    "# df['Arr_Hrs']=df['Arrival_Time'].str.split(' ').str.split(':').str[0]"
   ]
  },
  {
   "cell_type": "code",
   "execution_count": 31,
   "id": "c94d4e5c",
   "metadata": {},
   "outputs": [],
   "source": [
    "# and we'll drop our coulum arr_time because it was a temporary column and also Arrival_Time\n",
    "\n",
    "df.drop(['arr_time'], axis=1, inplace=True)\n",
    "df.drop(['Arrival_Time'], axis=1, inplace=True)\n"
   ]
  },
  {
   "cell_type": "code",
   "execution_count": 32,
   "id": "8561ba02",
   "metadata": {},
   "outputs": [
    {
     "name": "stdout",
     "output_type": "stream",
     "text": [
      "<class 'pandas.core.frame.DataFrame'>\n",
      "Int64Index: 10682 entries, 0 to 10682\n",
      "Data columns (total 15 columns):\n",
      " #   Column           Non-Null Count  Dtype \n",
      "---  ------           --------------  ----- \n",
      " 0   Airline          10682 non-null  object\n",
      " 1   Source           10682 non-null  object\n",
      " 2   Destination      10682 non-null  object\n",
      " 3   Route            10682 non-null  object\n",
      " 4   Duration         10682 non-null  object\n",
      " 5   Total_Stops      10682 non-null  object\n",
      " 6   Additional_Info  10682 non-null  object\n",
      " 7   Price            10682 non-null  int64 \n",
      " 8   Date             10682 non-null  int32 \n",
      " 9   Month            10682 non-null  int32 \n",
      " 10  Year             10682 non-null  int32 \n",
      " 11  Dep_hrs          10682 non-null  int32 \n",
      " 12  Dep_min          10682 non-null  int32 \n",
      " 13  Arr_Hrs          10682 non-null  int32 \n",
      " 14  Arr_Min          10682 non-null  int32 \n",
      "dtypes: int32(7), int64(1), object(7)\n",
      "memory usage: 1.0+ MB\n"
     ]
    }
   ],
   "source": [
    "df.info()"
   ]
  },
  {
   "cell_type": "code",
   "execution_count": 33,
   "id": "a534cdb2",
   "metadata": {},
   "outputs": [],
   "source": [
    "# here we can drop Route also\n",
    "df.drop(['Route'], axis=1, inplace=True)"
   ]
  },
  {
   "cell_type": "code",
   "execution_count": 34,
   "id": "0545e77d",
   "metadata": {},
   "outputs": [
    {
     "name": "stdout",
     "output_type": "stream",
     "text": [
      "<class 'pandas.core.frame.DataFrame'>\n",
      "Int64Index: 10682 entries, 0 to 10682\n",
      "Data columns (total 14 columns):\n",
      " #   Column           Non-Null Count  Dtype \n",
      "---  ------           --------------  ----- \n",
      " 0   Airline          10682 non-null  object\n",
      " 1   Source           10682 non-null  object\n",
      " 2   Destination      10682 non-null  object\n",
      " 3   Duration         10682 non-null  object\n",
      " 4   Total_Stops      10682 non-null  object\n",
      " 5   Additional_Info  10682 non-null  object\n",
      " 6   Price            10682 non-null  int64 \n",
      " 7   Date             10682 non-null  int32 \n",
      " 8   Month            10682 non-null  int32 \n",
      " 9   Year             10682 non-null  int32 \n",
      " 10  Dep_hrs          10682 non-null  int32 \n",
      " 11  Dep_min          10682 non-null  int32 \n",
      " 12  Arr_Hrs          10682 non-null  int32 \n",
      " 13  Arr_Min          10682 non-null  int32 \n",
      "dtypes: int32(7), int64(1), object(6)\n",
      "memory usage: 959.7+ KB\n"
     ]
    }
   ],
   "source": [
    "df.info()"
   ]
  },
  {
   "cell_type": "code",
   "execution_count": 35,
   "id": "79aa8cb1",
   "metadata": {},
   "outputs": [
    {
     "data": {
      "text/html": [
       "<div>\n",
       "<style scoped>\n",
       "    .dataframe tbody tr th:only-of-type {\n",
       "        vertical-align: middle;\n",
       "    }\n",
       "\n",
       "    .dataframe tbody tr th {\n",
       "        vertical-align: top;\n",
       "    }\n",
       "\n",
       "    .dataframe thead th {\n",
       "        text-align: right;\n",
       "    }\n",
       "</style>\n",
       "<table border=\"1\" class=\"dataframe\">\n",
       "  <thead>\n",
       "    <tr style=\"text-align: right;\">\n",
       "      <th></th>\n",
       "      <th>Airline</th>\n",
       "      <th>Source</th>\n",
       "      <th>Destination</th>\n",
       "      <th>Duration</th>\n",
       "      <th>Total_Stops</th>\n",
       "      <th>Additional_Info</th>\n",
       "      <th>Price</th>\n",
       "      <th>Date</th>\n",
       "      <th>Month</th>\n",
       "      <th>Year</th>\n",
       "      <th>Dep_hrs</th>\n",
       "      <th>Dep_min</th>\n",
       "      <th>Arr_Hrs</th>\n",
       "      <th>Arr_Min</th>\n",
       "    </tr>\n",
       "  </thead>\n",
       "  <tbody>\n",
       "    <tr>\n",
       "      <th>0</th>\n",
       "      <td>IndiGo</td>\n",
       "      <td>Banglore</td>\n",
       "      <td>New Delhi</td>\n",
       "      <td>2h 50m</td>\n",
       "      <td>non-stop</td>\n",
       "      <td>No info</td>\n",
       "      <td>3897</td>\n",
       "      <td>24</td>\n",
       "      <td>3</td>\n",
       "      <td>2019</td>\n",
       "      <td>22</td>\n",
       "      <td>20</td>\n",
       "      <td>1</td>\n",
       "      <td>10</td>\n",
       "    </tr>\n",
       "    <tr>\n",
       "      <th>1</th>\n",
       "      <td>Air India</td>\n",
       "      <td>Kolkata</td>\n",
       "      <td>Banglore</td>\n",
       "      <td>7h 25m</td>\n",
       "      <td>2 stops</td>\n",
       "      <td>No info</td>\n",
       "      <td>7662</td>\n",
       "      <td>1</td>\n",
       "      <td>5</td>\n",
       "      <td>2019</td>\n",
       "      <td>5</td>\n",
       "      <td>50</td>\n",
       "      <td>13</td>\n",
       "      <td>15</td>\n",
       "    </tr>\n",
       "  </tbody>\n",
       "</table>\n",
       "</div>"
      ],
      "text/plain": [
       "     Airline    Source Destination Duration Total_Stops Additional_Info  \\\n",
       "0     IndiGo  Banglore   New Delhi   2h 50m    non-stop         No info   \n",
       "1  Air India   Kolkata    Banglore   7h 25m     2 stops         No info   \n",
       "\n",
       "   Price  Date  Month  Year  Dep_hrs  Dep_min  Arr_Hrs  Arr_Min  \n",
       "0   3897    24      3  2019       22       20        1       10  \n",
       "1   7662     1      5  2019        5       50       13       15  "
      ]
     },
     "execution_count": 35,
     "metadata": {},
     "output_type": "execute_result"
    }
   ],
   "source": [
    "df.head(2)"
   ]
  },
  {
   "cell_type": "code",
   "execution_count": 36,
   "id": "685dfd24",
   "metadata": {},
   "outputs": [],
   "source": [
    "# we can convert Duration also\n",
    "\n",
    "df['Duration_new']=df['Duration'].str.split(' ')\n",
    "# df['Duration_Hrs']=df['Duration'].str.split(' ').str[0].str.split('h').str[0].astype(int)\n",
    "# df['Duration_Min']=df['Duration'].str.split(' ').str[1].str.split('m').str[0].astype(int)"
   ]
  },
  {
   "cell_type": "code",
   "execution_count": 37,
   "id": "ebd1f01a",
   "metadata": {},
   "outputs": [],
   "source": [
    "df['Duration_Hrs']=df['Duration_new'].str[0].str.split('h').str[0]"
   ]
  },
  {
   "cell_type": "code",
   "execution_count": 38,
   "id": "9c6851a0",
   "metadata": {},
   "outputs": [
    {
     "data": {
      "text/plain": [
       "0         2\n",
       "1         7\n",
       "2        19\n",
       "3         5\n",
       "4         4\n",
       "         ..\n",
       "10678     2\n",
       "10679     2\n",
       "10680     3\n",
       "10681     2\n",
       "10682     8\n",
       "Name: Duration_Hrs, Length: 10682, dtype: object"
      ]
     },
     "execution_count": 38,
     "metadata": {},
     "output_type": "execute_result"
    }
   ],
   "source": [
    "df['Duration_Hrs']"
   ]
  },
  {
   "cell_type": "code",
   "execution_count": 39,
   "id": "8ec7f57b",
   "metadata": {},
   "outputs": [],
   "source": [
    "df['Duration_Min']= df['Duration_new'].str[1].str.split('m').str[0]"
   ]
  },
  {
   "cell_type": "code",
   "execution_count": 40,
   "id": "0c4147e7",
   "metadata": {},
   "outputs": [
    {
     "data": {
      "text/html": [
       "<div>\n",
       "<style scoped>\n",
       "    .dataframe tbody tr th:only-of-type {\n",
       "        vertical-align: middle;\n",
       "    }\n",
       "\n",
       "    .dataframe tbody tr th {\n",
       "        vertical-align: top;\n",
       "    }\n",
       "\n",
       "    .dataframe thead th {\n",
       "        text-align: right;\n",
       "    }\n",
       "</style>\n",
       "<table border=\"1\" class=\"dataframe\">\n",
       "  <thead>\n",
       "    <tr style=\"text-align: right;\">\n",
       "      <th></th>\n",
       "      <th>Airline</th>\n",
       "      <th>Source</th>\n",
       "      <th>Destination</th>\n",
       "      <th>Duration</th>\n",
       "      <th>Total_Stops</th>\n",
       "      <th>Additional_Info</th>\n",
       "      <th>Price</th>\n",
       "      <th>Date</th>\n",
       "      <th>Month</th>\n",
       "      <th>Year</th>\n",
       "      <th>Dep_hrs</th>\n",
       "      <th>Dep_min</th>\n",
       "      <th>Arr_Hrs</th>\n",
       "      <th>Arr_Min</th>\n",
       "      <th>Duration_new</th>\n",
       "      <th>Duration_Hrs</th>\n",
       "      <th>Duration_Min</th>\n",
       "    </tr>\n",
       "  </thead>\n",
       "  <tbody>\n",
       "    <tr>\n",
       "      <th>0</th>\n",
       "      <td>IndiGo</td>\n",
       "      <td>Banglore</td>\n",
       "      <td>New Delhi</td>\n",
       "      <td>2h 50m</td>\n",
       "      <td>non-stop</td>\n",
       "      <td>No info</td>\n",
       "      <td>3897</td>\n",
       "      <td>24</td>\n",
       "      <td>3</td>\n",
       "      <td>2019</td>\n",
       "      <td>22</td>\n",
       "      <td>20</td>\n",
       "      <td>1</td>\n",
       "      <td>10</td>\n",
       "      <td>[2h, 50m]</td>\n",
       "      <td>2</td>\n",
       "      <td>50</td>\n",
       "    </tr>\n",
       "    <tr>\n",
       "      <th>1</th>\n",
       "      <td>Air India</td>\n",
       "      <td>Kolkata</td>\n",
       "      <td>Banglore</td>\n",
       "      <td>7h 25m</td>\n",
       "      <td>2 stops</td>\n",
       "      <td>No info</td>\n",
       "      <td>7662</td>\n",
       "      <td>1</td>\n",
       "      <td>5</td>\n",
       "      <td>2019</td>\n",
       "      <td>5</td>\n",
       "      <td>50</td>\n",
       "      <td>13</td>\n",
       "      <td>15</td>\n",
       "      <td>[7h, 25m]</td>\n",
       "      <td>7</td>\n",
       "      <td>25</td>\n",
       "    </tr>\n",
       "    <tr>\n",
       "      <th>2</th>\n",
       "      <td>Jet Airways</td>\n",
       "      <td>Delhi</td>\n",
       "      <td>Cochin</td>\n",
       "      <td>19h</td>\n",
       "      <td>2 stops</td>\n",
       "      <td>No info</td>\n",
       "      <td>13882</td>\n",
       "      <td>9</td>\n",
       "      <td>6</td>\n",
       "      <td>2019</td>\n",
       "      <td>9</td>\n",
       "      <td>25</td>\n",
       "      <td>4</td>\n",
       "      <td>25</td>\n",
       "      <td>[19h]</td>\n",
       "      <td>19</td>\n",
       "      <td>NaN</td>\n",
       "    </tr>\n",
       "    <tr>\n",
       "      <th>3</th>\n",
       "      <td>IndiGo</td>\n",
       "      <td>Kolkata</td>\n",
       "      <td>Banglore</td>\n",
       "      <td>5h 25m</td>\n",
       "      <td>1 stop</td>\n",
       "      <td>No info</td>\n",
       "      <td>6218</td>\n",
       "      <td>12</td>\n",
       "      <td>5</td>\n",
       "      <td>2019</td>\n",
       "      <td>18</td>\n",
       "      <td>5</td>\n",
       "      <td>23</td>\n",
       "      <td>30</td>\n",
       "      <td>[5h, 25m]</td>\n",
       "      <td>5</td>\n",
       "      <td>25</td>\n",
       "    </tr>\n",
       "    <tr>\n",
       "      <th>4</th>\n",
       "      <td>IndiGo</td>\n",
       "      <td>Banglore</td>\n",
       "      <td>New Delhi</td>\n",
       "      <td>4h 45m</td>\n",
       "      <td>1 stop</td>\n",
       "      <td>No info</td>\n",
       "      <td>13302</td>\n",
       "      <td>1</td>\n",
       "      <td>3</td>\n",
       "      <td>2019</td>\n",
       "      <td>16</td>\n",
       "      <td>50</td>\n",
       "      <td>21</td>\n",
       "      <td>35</td>\n",
       "      <td>[4h, 45m]</td>\n",
       "      <td>4</td>\n",
       "      <td>45</td>\n",
       "    </tr>\n",
       "  </tbody>\n",
       "</table>\n",
       "</div>"
      ],
      "text/plain": [
       "       Airline    Source Destination Duration Total_Stops Additional_Info  \\\n",
       "0       IndiGo  Banglore   New Delhi   2h 50m    non-stop         No info   \n",
       "1    Air India   Kolkata    Banglore   7h 25m     2 stops         No info   \n",
       "2  Jet Airways     Delhi      Cochin      19h     2 stops         No info   \n",
       "3       IndiGo   Kolkata    Banglore   5h 25m      1 stop         No info   \n",
       "4       IndiGo  Banglore   New Delhi   4h 45m      1 stop         No info   \n",
       "\n",
       "   Price  Date  Month  Year  Dep_hrs  Dep_min  Arr_Hrs  Arr_Min Duration_new  \\\n",
       "0   3897    24      3  2019       22       20        1       10    [2h, 50m]   \n",
       "1   7662     1      5  2019        5       50       13       15    [7h, 25m]   \n",
       "2  13882     9      6  2019        9       25        4       25        [19h]   \n",
       "3   6218    12      5  2019       18        5       23       30    [5h, 25m]   \n",
       "4  13302     1      3  2019       16       50       21       35    [4h, 45m]   \n",
       "\n",
       "  Duration_Hrs Duration_Min  \n",
       "0            2           50  \n",
       "1            7           25  \n",
       "2           19          NaN  \n",
       "3            5           25  \n",
       "4            4           45  "
      ]
     },
     "execution_count": 40,
     "metadata": {},
     "output_type": "execute_result"
    }
   ],
   "source": [
    "df.head()"
   ]
  },
  {
   "cell_type": "code",
   "execution_count": 41,
   "id": "62e6ab71",
   "metadata": {},
   "outputs": [],
   "source": [
    "# now we can drop Duration and Duration_new\n",
    "df.drop('Duration', axis=1, inplace=True)\n",
    "df.drop('Duration_new', axis=1, inplace=True)"
   ]
  },
  {
   "cell_type": "code",
   "execution_count": 42,
   "id": "a17519f4",
   "metadata": {},
   "outputs": [
    {
     "data": {
      "text/html": [
       "<div>\n",
       "<style scoped>\n",
       "    .dataframe tbody tr th:only-of-type {\n",
       "        vertical-align: middle;\n",
       "    }\n",
       "\n",
       "    .dataframe tbody tr th {\n",
       "        vertical-align: top;\n",
       "    }\n",
       "\n",
       "    .dataframe thead th {\n",
       "        text-align: right;\n",
       "    }\n",
       "</style>\n",
       "<table border=\"1\" class=\"dataframe\">\n",
       "  <thead>\n",
       "    <tr style=\"text-align: right;\">\n",
       "      <th></th>\n",
       "      <th>Airline</th>\n",
       "      <th>Source</th>\n",
       "      <th>Destination</th>\n",
       "      <th>Total_Stops</th>\n",
       "      <th>Additional_Info</th>\n",
       "      <th>Price</th>\n",
       "      <th>Date</th>\n",
       "      <th>Month</th>\n",
       "      <th>Year</th>\n",
       "      <th>Dep_hrs</th>\n",
       "      <th>Dep_min</th>\n",
       "      <th>Arr_Hrs</th>\n",
       "      <th>Arr_Min</th>\n",
       "      <th>Duration_Hrs</th>\n",
       "      <th>Duration_Min</th>\n",
       "    </tr>\n",
       "  </thead>\n",
       "  <tbody>\n",
       "    <tr>\n",
       "      <th>0</th>\n",
       "      <td>IndiGo</td>\n",
       "      <td>Banglore</td>\n",
       "      <td>New Delhi</td>\n",
       "      <td>non-stop</td>\n",
       "      <td>No info</td>\n",
       "      <td>3897</td>\n",
       "      <td>24</td>\n",
       "      <td>3</td>\n",
       "      <td>2019</td>\n",
       "      <td>22</td>\n",
       "      <td>20</td>\n",
       "      <td>1</td>\n",
       "      <td>10</td>\n",
       "      <td>2</td>\n",
       "      <td>50</td>\n",
       "    </tr>\n",
       "    <tr>\n",
       "      <th>1</th>\n",
       "      <td>Air India</td>\n",
       "      <td>Kolkata</td>\n",
       "      <td>Banglore</td>\n",
       "      <td>2 stops</td>\n",
       "      <td>No info</td>\n",
       "      <td>7662</td>\n",
       "      <td>1</td>\n",
       "      <td>5</td>\n",
       "      <td>2019</td>\n",
       "      <td>5</td>\n",
       "      <td>50</td>\n",
       "      <td>13</td>\n",
       "      <td>15</td>\n",
       "      <td>7</td>\n",
       "      <td>25</td>\n",
       "    </tr>\n",
       "  </tbody>\n",
       "</table>\n",
       "</div>"
      ],
      "text/plain": [
       "     Airline    Source Destination Total_Stops Additional_Info  Price  Date  \\\n",
       "0     IndiGo  Banglore   New Delhi    non-stop         No info   3897    24   \n",
       "1  Air India   Kolkata    Banglore     2 stops         No info   7662     1   \n",
       "\n",
       "   Month  Year  Dep_hrs  Dep_min  Arr_Hrs  Arr_Min Duration_Hrs Duration_Min  \n",
       "0      3  2019       22       20        1       10            2           50  \n",
       "1      5  2019        5       50       13       15            7           25  "
      ]
     },
     "execution_count": 42,
     "metadata": {},
     "output_type": "execute_result"
    }
   ],
   "source": [
    "df.head(2)"
   ]
  },
  {
   "cell_type": "code",
   "execution_count": 43,
   "id": "b2e952af",
   "metadata": {},
   "outputs": [
    {
     "data": {
      "text/plain": [
       "0"
      ]
     },
     "execution_count": 43,
     "metadata": {},
     "output_type": "execute_result"
    }
   ],
   "source": [
    "df['Duration_Hrs'].isnull().sum()"
   ]
  },
  {
   "cell_type": "code",
   "execution_count": 44,
   "id": "35951b22",
   "metadata": {},
   "outputs": [
    {
     "data": {
      "text/plain": [
       "1032"
      ]
     },
     "execution_count": 44,
     "metadata": {},
     "output_type": "execute_result"
    }
   ],
   "source": [
    "df['Duration_Min'].isnull().sum()"
   ]
  },
  {
   "cell_type": "code",
   "execution_count": 45,
   "id": "0700e7d2",
   "metadata": {},
   "outputs": [],
   "source": [
    "df['Duration_Min']= df['Duration_Min'].fillna(0)"
   ]
  },
  {
   "cell_type": "code",
   "execution_count": 46,
   "id": "a5c25c6d",
   "metadata": {},
   "outputs": [
    {
     "data": {
      "text/plain": [
       "0"
      ]
     },
     "execution_count": 46,
     "metadata": {},
     "output_type": "execute_result"
    }
   ],
   "source": [
    "df['Duration_Min'].isnull().sum()"
   ]
  },
  {
   "cell_type": "code",
   "execution_count": 47,
   "id": "95dc59fd",
   "metadata": {},
   "outputs": [
    {
     "data": {
      "text/plain": [
       "array(['50', '25', 0, '45', '30', '5', '15', '35', '10', '20', '55', '40'],\n",
       "      dtype=object)"
      ]
     },
     "execution_count": 47,
     "metadata": {},
     "output_type": "execute_result"
    }
   ],
   "source": [
    "df['Duration_Min'].unique()"
   ]
  },
  {
   "cell_type": "code",
   "execution_count": 48,
   "id": "7dc3da78",
   "metadata": {},
   "outputs": [
    {
     "name": "stdout",
     "output_type": "stream",
     "text": [
      "<class 'pandas.core.frame.DataFrame'>\n",
      "Int64Index: 10682 entries, 0 to 10682\n",
      "Data columns (total 15 columns):\n",
      " #   Column           Non-Null Count  Dtype \n",
      "---  ------           --------------  ----- \n",
      " 0   Airline          10682 non-null  object\n",
      " 1   Source           10682 non-null  object\n",
      " 2   Destination      10682 non-null  object\n",
      " 3   Total_Stops      10682 non-null  object\n",
      " 4   Additional_Info  10682 non-null  object\n",
      " 5   Price            10682 non-null  int64 \n",
      " 6   Date             10682 non-null  int32 \n",
      " 7   Month            10682 non-null  int32 \n",
      " 8   Year             10682 non-null  int32 \n",
      " 9   Dep_hrs          10682 non-null  int32 \n",
      " 10  Dep_min          10682 non-null  int32 \n",
      " 11  Arr_Hrs          10682 non-null  int32 \n",
      " 12  Arr_Min          10682 non-null  int32 \n",
      " 13  Duration_Hrs     10682 non-null  object\n",
      " 14  Duration_Min     10682 non-null  object\n",
      "dtypes: int32(7), int64(1), object(7)\n",
      "memory usage: 1.0+ MB\n"
     ]
    }
   ],
   "source": [
    "df.info()"
   ]
  },
  {
   "cell_type": "code",
   "execution_count": 49,
   "id": "698a9c8a",
   "metadata": {},
   "outputs": [
    {
     "data": {
      "text/html": [
       "<div>\n",
       "<style scoped>\n",
       "    .dataframe tbody tr th:only-of-type {\n",
       "        vertical-align: middle;\n",
       "    }\n",
       "\n",
       "    .dataframe tbody tr th {\n",
       "        vertical-align: top;\n",
       "    }\n",
       "\n",
       "    .dataframe thead th {\n",
       "        text-align: right;\n",
       "    }\n",
       "</style>\n",
       "<table border=\"1\" class=\"dataframe\">\n",
       "  <thead>\n",
       "    <tr style=\"text-align: right;\">\n",
       "      <th></th>\n",
       "      <th>Airline</th>\n",
       "      <th>Source</th>\n",
       "      <th>Destination</th>\n",
       "      <th>Total_Stops</th>\n",
       "      <th>Additional_Info</th>\n",
       "      <th>Price</th>\n",
       "      <th>Date</th>\n",
       "      <th>Month</th>\n",
       "      <th>Year</th>\n",
       "      <th>Dep_hrs</th>\n",
       "      <th>Dep_min</th>\n",
       "      <th>Arr_Hrs</th>\n",
       "      <th>Arr_Min</th>\n",
       "      <th>Duration_Hrs</th>\n",
       "      <th>Duration_Min</th>\n",
       "    </tr>\n",
       "  </thead>\n",
       "  <tbody>\n",
       "    <tr>\n",
       "      <th>6474</th>\n",
       "      <td>Air India</td>\n",
       "      <td>Mumbai</td>\n",
       "      <td>Hyderabad</td>\n",
       "      <td>2 stops</td>\n",
       "      <td>No info</td>\n",
       "      <td>17327</td>\n",
       "      <td>6</td>\n",
       "      <td>3</td>\n",
       "      <td>2019</td>\n",
       "      <td>16</td>\n",
       "      <td>50</td>\n",
       "      <td>16</td>\n",
       "      <td>55</td>\n",
       "      <td>5m</td>\n",
       "      <td>0</td>\n",
       "    </tr>\n",
       "  </tbody>\n",
       "</table>\n",
       "</div>"
      ],
      "text/plain": [
       "        Airline  Source Destination Total_Stops Additional_Info  Price  Date  \\\n",
       "6474  Air India  Mumbai   Hyderabad     2 stops         No info  17327     6   \n",
       "\n",
       "      Month  Year  Dep_hrs  Dep_min  Arr_Hrs  Arr_Min Duration_Hrs  \\\n",
       "6474      3  2019       16       50       16       55           5m   \n",
       "\n",
       "     Duration_Min  \n",
       "6474            0  "
      ]
     },
     "execution_count": 49,
     "metadata": {},
     "output_type": "execute_result"
    }
   ],
   "source": [
    "df[df['Duration_Hrs']=='5m']\n",
    "# This is an invalid value or outlier. We can simply remove it and then we can convert it into numerical data"
   ]
  },
  {
   "cell_type": "code",
   "execution_count": 50,
   "id": "ecf929bf",
   "metadata": {},
   "outputs": [],
   "source": [
    "df.drop(index=6474, inplace=True)"
   ]
  },
  {
   "cell_type": "code",
   "execution_count": 51,
   "id": "93041e2d",
   "metadata": {},
   "outputs": [
    {
     "data": {
      "text/plain": [
       "2     2402\n",
       "1      621\n",
       "3      501\n",
       "7      487\n",
       "5      481\n",
       "9      445\n",
       "12     428\n",
       "8      424\n",
       "13     407\n",
       "11     365\n",
       "10     355\n",
       "6      340\n",
       "14     337\n",
       "15     268\n",
       "23     264\n",
       "26     241\n",
       "16     234\n",
       "4      222\n",
       "22     218\n",
       "24     197\n",
       "21     196\n",
       "25     186\n",
       "27     179\n",
       "20     162\n",
       "18     141\n",
       "19     134\n",
       "17     129\n",
       "28      94\n",
       "29      65\n",
       "30      49\n",
       "38      34\n",
       "37      17\n",
       "33      13\n",
       "32       9\n",
       "34       8\n",
       "36       7\n",
       "35       7\n",
       "31       6\n",
       "47       2\n",
       "42       2\n",
       "39       2\n",
       "41       1\n",
       "40       1\n",
       "Name: Duration_Hrs, dtype: int64"
      ]
     },
     "execution_count": 51,
     "metadata": {},
     "output_type": "execute_result"
    }
   ],
   "source": [
    "df['Duration_Hrs'].value_counts()"
   ]
  },
  {
   "cell_type": "code",
   "execution_count": 52,
   "id": "8d4515ec",
   "metadata": {},
   "outputs": [],
   "source": [
    "df['Duration_Hrs']=df['Duration_Hrs'].astype(int)"
   ]
  },
  {
   "cell_type": "code",
   "execution_count": 53,
   "id": "aeb9c4e4",
   "metadata": {},
   "outputs": [
    {
     "data": {
      "text/plain": [
       "30    1446\n",
       "0     1031\n",
       "20     997\n",
       "50     972\n",
       "35     939\n",
       "55     910\n",
       "15     903\n",
       "45     896\n",
       "25     803\n",
       "40     636\n",
       "5      623\n",
       "10     525\n",
       "Name: Duration_Min, dtype: int64"
      ]
     },
     "execution_count": 53,
     "metadata": {},
     "output_type": "execute_result"
    }
   ],
   "source": [
    "df['Duration_Min'].value_counts()"
   ]
  },
  {
   "cell_type": "code",
   "execution_count": 54,
   "id": "b5318e24",
   "metadata": {},
   "outputs": [],
   "source": [
    "df['Duration_Min']=df['Duration_Min'].astype(int)"
   ]
  },
  {
   "cell_type": "code",
   "execution_count": 55,
   "id": "c0c0bce8",
   "metadata": {},
   "outputs": [
    {
     "name": "stdout",
     "output_type": "stream",
     "text": [
      "<class 'pandas.core.frame.DataFrame'>\n",
      "Int64Index: 10681 entries, 0 to 10682\n",
      "Data columns (total 15 columns):\n",
      " #   Column           Non-Null Count  Dtype \n",
      "---  ------           --------------  ----- \n",
      " 0   Airline          10681 non-null  object\n",
      " 1   Source           10681 non-null  object\n",
      " 2   Destination      10681 non-null  object\n",
      " 3   Total_Stops      10681 non-null  object\n",
      " 4   Additional_Info  10681 non-null  object\n",
      " 5   Price            10681 non-null  int64 \n",
      " 6   Date             10681 non-null  int32 \n",
      " 7   Month            10681 non-null  int32 \n",
      " 8   Year             10681 non-null  int32 \n",
      " 9   Dep_hrs          10681 non-null  int32 \n",
      " 10  Dep_min          10681 non-null  int32 \n",
      " 11  Arr_Hrs          10681 non-null  int32 \n",
      " 12  Arr_Min          10681 non-null  int32 \n",
      " 13  Duration_Hrs     10681 non-null  int32 \n",
      " 14  Duration_Min     10681 non-null  int32 \n",
      "dtypes: int32(9), int64(1), object(5)\n",
      "memory usage: 959.6+ KB\n"
     ]
    }
   ],
   "source": [
    "df.info()"
   ]
  },
  {
   "cell_type": "code",
   "execution_count": 56,
   "id": "a3137f33",
   "metadata": {},
   "outputs": [
    {
     "data": {
      "text/plain": [
       "array(['non-stop', '2 stops', '1 stop', '3 stops', '4 stops'],\n",
       "      dtype=object)"
      ]
     },
     "execution_count": 56,
     "metadata": {},
     "output_type": "execute_result"
    }
   ],
   "source": [
    "df['Total_Stops'].unique()"
   ]
  },
  {
   "cell_type": "code",
   "execution_count": 57,
   "id": "5b64181e",
   "metadata": {},
   "outputs": [
    {
     "data": {
      "text/plain": [
       "1 stop      5625\n",
       "non-stop    3491\n",
       "2 stops     1519\n",
       "3 stops       45\n",
       "4 stops        1\n",
       "Name: Total_Stops, dtype: int64"
      ]
     },
     "execution_count": 57,
     "metadata": {},
     "output_type": "execute_result"
    }
   ],
   "source": [
    "df['Total_Stops'].value_counts()"
   ]
  },
  {
   "cell_type": "code",
   "execution_count": 58,
   "id": "812d7cbf",
   "metadata": {},
   "outputs": [],
   "source": [
    "df['Stop']=df['Total_Stops'].str.split(' ').str[0]"
   ]
  },
  {
   "cell_type": "code",
   "execution_count": 59,
   "id": "90f953d0",
   "metadata": {},
   "outputs": [],
   "source": [
    "df.drop('Total_Stops', axis=1, inplace=True)"
   ]
  },
  {
   "cell_type": "code",
   "execution_count": 60,
   "id": "da36a748",
   "metadata": {},
   "outputs": [
    {
     "data": {
      "text/plain": [
       "1           5625\n",
       "non-stop    3491\n",
       "2           1519\n",
       "3             45\n",
       "4              1\n",
       "Name: Stop, dtype: int64"
      ]
     },
     "execution_count": 60,
     "metadata": {},
     "output_type": "execute_result"
    }
   ],
   "source": [
    "df['Stop'].value_counts()"
   ]
  },
  {
   "cell_type": "code",
   "execution_count": 61,
   "id": "a5fe84a7",
   "metadata": {},
   "outputs": [
    {
     "data": {
      "text/html": [
       "<div>\n",
       "<style scoped>\n",
       "    .dataframe tbody tr th:only-of-type {\n",
       "        vertical-align: middle;\n",
       "    }\n",
       "\n",
       "    .dataframe tbody tr th {\n",
       "        vertical-align: top;\n",
       "    }\n",
       "\n",
       "    .dataframe thead th {\n",
       "        text-align: right;\n",
       "    }\n",
       "</style>\n",
       "<table border=\"1\" class=\"dataframe\">\n",
       "  <thead>\n",
       "    <tr style=\"text-align: right;\">\n",
       "      <th></th>\n",
       "      <th>Airline</th>\n",
       "      <th>Source</th>\n",
       "      <th>Destination</th>\n",
       "      <th>Additional_Info</th>\n",
       "      <th>Price</th>\n",
       "      <th>Date</th>\n",
       "      <th>Month</th>\n",
       "      <th>Year</th>\n",
       "      <th>Dep_hrs</th>\n",
       "      <th>Dep_min</th>\n",
       "      <th>Arr_Hrs</th>\n",
       "      <th>Arr_Min</th>\n",
       "      <th>Duration_Hrs</th>\n",
       "      <th>Duration_Min</th>\n",
       "      <th>Stop</th>\n",
       "    </tr>\n",
       "  </thead>\n",
       "  <tbody>\n",
       "    <tr>\n",
       "      <th>0</th>\n",
       "      <td>IndiGo</td>\n",
       "      <td>Banglore</td>\n",
       "      <td>New Delhi</td>\n",
       "      <td>No info</td>\n",
       "      <td>3897</td>\n",
       "      <td>24</td>\n",
       "      <td>3</td>\n",
       "      <td>2019</td>\n",
       "      <td>22</td>\n",
       "      <td>20</td>\n",
       "      <td>1</td>\n",
       "      <td>10</td>\n",
       "      <td>2</td>\n",
       "      <td>50</td>\n",
       "      <td>non-stop</td>\n",
       "    </tr>\n",
       "    <tr>\n",
       "      <th>5</th>\n",
       "      <td>SpiceJet</td>\n",
       "      <td>Kolkata</td>\n",
       "      <td>Banglore</td>\n",
       "      <td>No info</td>\n",
       "      <td>3873</td>\n",
       "      <td>24</td>\n",
       "      <td>6</td>\n",
       "      <td>2019</td>\n",
       "      <td>9</td>\n",
       "      <td>0</td>\n",
       "      <td>11</td>\n",
       "      <td>25</td>\n",
       "      <td>2</td>\n",
       "      <td>25</td>\n",
       "      <td>non-stop</td>\n",
       "    </tr>\n",
       "    <tr>\n",
       "      <th>11</th>\n",
       "      <td>IndiGo</td>\n",
       "      <td>Kolkata</td>\n",
       "      <td>Banglore</td>\n",
       "      <td>No info</td>\n",
       "      <td>4174</td>\n",
       "      <td>18</td>\n",
       "      <td>4</td>\n",
       "      <td>2019</td>\n",
       "      <td>20</td>\n",
       "      <td>20</td>\n",
       "      <td>22</td>\n",
       "      <td>55</td>\n",
       "      <td>2</td>\n",
       "      <td>35</td>\n",
       "      <td>non-stop</td>\n",
       "    </tr>\n",
       "    <tr>\n",
       "      <th>12</th>\n",
       "      <td>Air India</td>\n",
       "      <td>Chennai</td>\n",
       "      <td>Kolkata</td>\n",
       "      <td>No info</td>\n",
       "      <td>4667</td>\n",
       "      <td>24</td>\n",
       "      <td>6</td>\n",
       "      <td>2019</td>\n",
       "      <td>11</td>\n",
       "      <td>40</td>\n",
       "      <td>13</td>\n",
       "      <td>55</td>\n",
       "      <td>2</td>\n",
       "      <td>15</td>\n",
       "      <td>non-stop</td>\n",
       "    </tr>\n",
       "    <tr>\n",
       "      <th>14</th>\n",
       "      <td>IndiGo</td>\n",
       "      <td>Kolkata</td>\n",
       "      <td>Banglore</td>\n",
       "      <td>No info</td>\n",
       "      <td>4804</td>\n",
       "      <td>24</td>\n",
       "      <td>4</td>\n",
       "      <td>2019</td>\n",
       "      <td>17</td>\n",
       "      <td>15</td>\n",
       "      <td>19</td>\n",
       "      <td>50</td>\n",
       "      <td>2</td>\n",
       "      <td>35</td>\n",
       "      <td>non-stop</td>\n",
       "    </tr>\n",
       "    <tr>\n",
       "      <th>...</th>\n",
       "      <td>...</td>\n",
       "      <td>...</td>\n",
       "      <td>...</td>\n",
       "      <td>...</td>\n",
       "      <td>...</td>\n",
       "      <td>...</td>\n",
       "      <td>...</td>\n",
       "      <td>...</td>\n",
       "      <td>...</td>\n",
       "      <td>...</td>\n",
       "      <td>...</td>\n",
       "      <td>...</td>\n",
       "      <td>...</td>\n",
       "      <td>...</td>\n",
       "      <td>...</td>\n",
       "    </tr>\n",
       "    <tr>\n",
       "      <th>10677</th>\n",
       "      <td>SpiceJet</td>\n",
       "      <td>Banglore</td>\n",
       "      <td>Delhi</td>\n",
       "      <td>No check-in baggage included</td>\n",
       "      <td>3257</td>\n",
       "      <td>21</td>\n",
       "      <td>5</td>\n",
       "      <td>2019</td>\n",
       "      <td>5</td>\n",
       "      <td>55</td>\n",
       "      <td>8</td>\n",
       "      <td>35</td>\n",
       "      <td>2</td>\n",
       "      <td>40</td>\n",
       "      <td>non-stop</td>\n",
       "    </tr>\n",
       "    <tr>\n",
       "      <th>10678</th>\n",
       "      <td>Air Asia</td>\n",
       "      <td>Kolkata</td>\n",
       "      <td>Banglore</td>\n",
       "      <td>No info</td>\n",
       "      <td>4107</td>\n",
       "      <td>9</td>\n",
       "      <td>4</td>\n",
       "      <td>2019</td>\n",
       "      <td>19</td>\n",
       "      <td>55</td>\n",
       "      <td>22</td>\n",
       "      <td>25</td>\n",
       "      <td>2</td>\n",
       "      <td>30</td>\n",
       "      <td>non-stop</td>\n",
       "    </tr>\n",
       "    <tr>\n",
       "      <th>10679</th>\n",
       "      <td>Air India</td>\n",
       "      <td>Kolkata</td>\n",
       "      <td>Banglore</td>\n",
       "      <td>No info</td>\n",
       "      <td>4145</td>\n",
       "      <td>27</td>\n",
       "      <td>4</td>\n",
       "      <td>2019</td>\n",
       "      <td>20</td>\n",
       "      <td>45</td>\n",
       "      <td>23</td>\n",
       "      <td>20</td>\n",
       "      <td>2</td>\n",
       "      <td>35</td>\n",
       "      <td>non-stop</td>\n",
       "    </tr>\n",
       "    <tr>\n",
       "      <th>10680</th>\n",
       "      <td>Jet Airways</td>\n",
       "      <td>Banglore</td>\n",
       "      <td>Delhi</td>\n",
       "      <td>No info</td>\n",
       "      <td>7229</td>\n",
       "      <td>27</td>\n",
       "      <td>4</td>\n",
       "      <td>2019</td>\n",
       "      <td>8</td>\n",
       "      <td>20</td>\n",
       "      <td>11</td>\n",
       "      <td>20</td>\n",
       "      <td>3</td>\n",
       "      <td>0</td>\n",
       "      <td>non-stop</td>\n",
       "    </tr>\n",
       "    <tr>\n",
       "      <th>10681</th>\n",
       "      <td>Vistara</td>\n",
       "      <td>Banglore</td>\n",
       "      <td>New Delhi</td>\n",
       "      <td>No info</td>\n",
       "      <td>12648</td>\n",
       "      <td>1</td>\n",
       "      <td>3</td>\n",
       "      <td>2019</td>\n",
       "      <td>11</td>\n",
       "      <td>30</td>\n",
       "      <td>14</td>\n",
       "      <td>10</td>\n",
       "      <td>2</td>\n",
       "      <td>40</td>\n",
       "      <td>non-stop</td>\n",
       "    </tr>\n",
       "  </tbody>\n",
       "</table>\n",
       "<p>3491 rows × 15 columns</p>\n",
       "</div>"
      ],
      "text/plain": [
       "           Airline    Source Destination               Additional_Info  Price  \\\n",
       "0           IndiGo  Banglore   New Delhi                       No info   3897   \n",
       "5         SpiceJet   Kolkata    Banglore                       No info   3873   \n",
       "11          IndiGo   Kolkata    Banglore                       No info   4174   \n",
       "12       Air India   Chennai     Kolkata                       No info   4667   \n",
       "14          IndiGo   Kolkata    Banglore                       No info   4804   \n",
       "...            ...       ...         ...                           ...    ...   \n",
       "10677     SpiceJet  Banglore       Delhi  No check-in baggage included   3257   \n",
       "10678     Air Asia   Kolkata    Banglore                       No info   4107   \n",
       "10679    Air India   Kolkata    Banglore                       No info   4145   \n",
       "10680  Jet Airways  Banglore       Delhi                       No info   7229   \n",
       "10681      Vistara  Banglore   New Delhi                       No info  12648   \n",
       "\n",
       "       Date  Month  Year  Dep_hrs  Dep_min  Arr_Hrs  Arr_Min  Duration_Hrs  \\\n",
       "0        24      3  2019       22       20        1       10             2   \n",
       "5        24      6  2019        9        0       11       25             2   \n",
       "11       18      4  2019       20       20       22       55             2   \n",
       "12       24      6  2019       11       40       13       55             2   \n",
       "14       24      4  2019       17       15       19       50             2   \n",
       "...     ...    ...   ...      ...      ...      ...      ...           ...   \n",
       "10677    21      5  2019        5       55        8       35             2   \n",
       "10678     9      4  2019       19       55       22       25             2   \n",
       "10679    27      4  2019       20       45       23       20             2   \n",
       "10680    27      4  2019        8       20       11       20             3   \n",
       "10681     1      3  2019       11       30       14       10             2   \n",
       "\n",
       "       Duration_Min      Stop  \n",
       "0                50  non-stop  \n",
       "5                25  non-stop  \n",
       "11               35  non-stop  \n",
       "12               15  non-stop  \n",
       "14               35  non-stop  \n",
       "...             ...       ...  \n",
       "10677            40  non-stop  \n",
       "10678            30  non-stop  \n",
       "10679            35  non-stop  \n",
       "10680             0  non-stop  \n",
       "10681            40  non-stop  \n",
       "\n",
       "[3491 rows x 15 columns]"
      ]
     },
     "execution_count": 61,
     "metadata": {},
     "output_type": "execute_result"
    }
   ],
   "source": [
    "df[df['Stop']=='non-stop']"
   ]
  },
  {
   "cell_type": "code",
   "execution_count": 62,
   "id": "dc2f53b2",
   "metadata": {},
   "outputs": [],
   "source": [
    "# here we want to convert non-stop into 0 so that we can make it numerical\n",
    "df['Stop']=df['Stop'].replace('non-stop', 0)"
   ]
  },
  {
   "cell_type": "code",
   "execution_count": 63,
   "id": "a9c701f5",
   "metadata": {},
   "outputs": [
    {
     "data": {
      "text/plain": [
       "1    5625\n",
       "0    3491\n",
       "2    1519\n",
       "3      45\n",
       "4       1\n",
       "Name: Stop, dtype: int64"
      ]
     },
     "execution_count": 63,
     "metadata": {},
     "output_type": "execute_result"
    }
   ],
   "source": [
    "df['Stop'].value_counts()"
   ]
  },
  {
   "cell_type": "code",
   "execution_count": 64,
   "id": "2d82140d",
   "metadata": {},
   "outputs": [
    {
     "name": "stdout",
     "output_type": "stream",
     "text": [
      "<class 'pandas.core.frame.DataFrame'>\n",
      "Int64Index: 10681 entries, 0 to 10682\n",
      "Data columns (total 15 columns):\n",
      " #   Column           Non-Null Count  Dtype \n",
      "---  ------           --------------  ----- \n",
      " 0   Airline          10681 non-null  object\n",
      " 1   Source           10681 non-null  object\n",
      " 2   Destination      10681 non-null  object\n",
      " 3   Additional_Info  10681 non-null  object\n",
      " 4   Price            10681 non-null  int64 \n",
      " 5   Date             10681 non-null  int32 \n",
      " 6   Month            10681 non-null  int32 \n",
      " 7   Year             10681 non-null  int32 \n",
      " 8   Dep_hrs          10681 non-null  int32 \n",
      " 9   Dep_min          10681 non-null  int32 \n",
      " 10  Arr_Hrs          10681 non-null  int32 \n",
      " 11  Arr_Min          10681 non-null  int32 \n",
      " 12  Duration_Hrs     10681 non-null  int32 \n",
      " 13  Duration_Min     10681 non-null  int32 \n",
      " 14  Stop             10681 non-null  object\n",
      "dtypes: int32(9), int64(1), object(5)\n",
      "memory usage: 959.6+ KB\n"
     ]
    }
   ],
   "source": [
    "df.info()\n",
    "# now we can convert stop into numerical\n"
   ]
  },
  {
   "cell_type": "code",
   "execution_count": 65,
   "id": "1b4f3941",
   "metadata": {},
   "outputs": [],
   "source": [
    "df['Stop']=df['Stop'].astype(int)"
   ]
  },
  {
   "cell_type": "code",
   "execution_count": 66,
   "id": "d910b1bf",
   "metadata": {},
   "outputs": [],
   "source": [
    "# or we could simply do it using map function\n",
    "# df['Total_Stops']=df['Total_Stops'].map({'non-stop':0, '1 stop':1, '2 stop':2, '3 stop':3, '4 stop':4, np.nan:1})"
   ]
  },
  {
   "cell_type": "code",
   "execution_count": 67,
   "id": "f0afe01e",
   "metadata": {},
   "outputs": [
    {
     "data": {
      "text/plain": [
       "0"
      ]
     },
     "execution_count": 67,
     "metadata": {},
     "output_type": "execute_result"
    }
   ],
   "source": [
    "df['Stop'].isnull().sum()"
   ]
  },
  {
   "cell_type": "code",
   "execution_count": 68,
   "id": "611fbe5d",
   "metadata": {},
   "outputs": [
    {
     "name": "stdout",
     "output_type": "stream",
     "text": [
      "<class 'pandas.core.frame.DataFrame'>\n",
      "Int64Index: 10681 entries, 0 to 10682\n",
      "Data columns (total 15 columns):\n",
      " #   Column           Non-Null Count  Dtype \n",
      "---  ------           --------------  ----- \n",
      " 0   Airline          10681 non-null  object\n",
      " 1   Source           10681 non-null  object\n",
      " 2   Destination      10681 non-null  object\n",
      " 3   Additional_Info  10681 non-null  object\n",
      " 4   Price            10681 non-null  int64 \n",
      " 5   Date             10681 non-null  int32 \n",
      " 6   Month            10681 non-null  int32 \n",
      " 7   Year             10681 non-null  int32 \n",
      " 8   Dep_hrs          10681 non-null  int32 \n",
      " 9   Dep_min          10681 non-null  int32 \n",
      " 10  Arr_Hrs          10681 non-null  int32 \n",
      " 11  Arr_Min          10681 non-null  int32 \n",
      " 12  Duration_Hrs     10681 non-null  int32 \n",
      " 13  Duration_Min     10681 non-null  int32 \n",
      " 14  Stop             10681 non-null  int32 \n",
      "dtypes: int32(10), int64(1), object(4)\n",
      "memory usage: 917.9+ KB\n"
     ]
    }
   ],
   "source": [
    "df.info()"
   ]
  },
  {
   "cell_type": "code",
   "execution_count": 69,
   "id": "861afa09",
   "metadata": {},
   "outputs": [
    {
     "data": {
      "text/plain": [
       "array(['No info', 'In-flight meal not included',\n",
       "       'No check-in baggage included', '1 Short layover', 'No Info',\n",
       "       '1 Long layover', 'Change airports', 'Business class',\n",
       "       'Red-eye flight', '2 Long layover'], dtype=object)"
      ]
     },
     "execution_count": 69,
     "metadata": {},
     "output_type": "execute_result"
    }
   ],
   "source": [
    "df['Additional_Info'].unique()\n",
    "# here we can see two similar unique values No info and No Info so we have to replace it with any one value"
   ]
  },
  {
   "cell_type": "code",
   "execution_count": 70,
   "id": "3094d0a8",
   "metadata": {},
   "outputs": [],
   "source": [
    "df['Additional_Info']=df['Additional_Info'].replace('No info', 'No Info')"
   ]
  },
  {
   "cell_type": "code",
   "execution_count": 71,
   "id": "c2aa8493",
   "metadata": {},
   "outputs": [
    {
     "data": {
      "text/plain": [
       "array(['No Info', 'In-flight meal not included',\n",
       "       'No check-in baggage included', '1 Short layover',\n",
       "       '1 Long layover', 'Change airports', 'Business class',\n",
       "       'Red-eye flight', '2 Long layover'], dtype=object)"
      ]
     },
     "execution_count": 71,
     "metadata": {},
     "output_type": "execute_result"
    }
   ],
   "source": [
    "df['Additional_Info'].unique()"
   ]
  },
  {
   "cell_type": "code",
   "execution_count": 72,
   "id": "2cdb8a58",
   "metadata": {},
   "outputs": [
    {
     "data": {
      "text/plain": [
       "array(['Banglore', 'Kolkata', 'Delhi', 'Chennai', 'Mumbai'], dtype=object)"
      ]
     },
     "execution_count": 72,
     "metadata": {},
     "output_type": "execute_result"
    }
   ],
   "source": [
    "df['Source'].unique()"
   ]
  },
  {
   "cell_type": "code",
   "execution_count": 73,
   "id": "d88f773c",
   "metadata": {},
   "outputs": [
    {
     "data": {
      "text/plain": [
       "array(['New Delhi', 'Banglore', 'Cochin', 'Kolkata', 'Delhi', 'Hyderabad'],\n",
       "      dtype=object)"
      ]
     },
     "execution_count": 73,
     "metadata": {},
     "output_type": "execute_result"
    }
   ],
   "source": [
    "df['Destination'].unique()"
   ]
  },
  {
   "cell_type": "code",
   "execution_count": 74,
   "id": "4ac48769",
   "metadata": {},
   "outputs": [],
   "source": [
    "# Airline, source, destination00 are categorical features and we can convert them into numerical featrue \n",
    "# using one hot encoding\n",
    "# importing necessary library\n",
    "\n",
    "from sklearn.preprocessing import OneHotEncoder\n"
   ]
  },
  {
   "cell_type": "code",
   "execution_count": 75,
   "id": "a28a55ae",
   "metadata": {},
   "outputs": [],
   "source": [
    "# creating object for 4 categorical features\n",
    "encoder_1=OneHotEncoder()\n",
    "encoder_2=OneHotEncoder()\n",
    "encoder_3=OneHotEncoder()\n"
   ]
  },
  {
   "cell_type": "code",
   "execution_count": 76,
   "id": "87add2c9",
   "metadata": {},
   "outputs": [
    {
     "data": {
      "text/plain": [
       "<10681x12 sparse matrix of type '<class 'numpy.float64'>'\n",
       "\twith 10681 stored elements in Compressed Sparse Row format>"
      ]
     },
     "execution_count": 76,
     "metadata": {},
     "output_type": "execute_result"
    }
   ],
   "source": [
    "encoder_1.fit_transform(df[['Airline']])"
   ]
  },
  {
   "cell_type": "code",
   "execution_count": 77,
   "id": "41a931ca",
   "metadata": {},
   "outputs": [
    {
     "data": {
      "text/plain": [
       "array([[0., 0., 0., ..., 0., 0., 0.],\n",
       "       [0., 1., 0., ..., 0., 0., 0.],\n",
       "       [0., 0., 0., ..., 0., 0., 0.],\n",
       "       ...,\n",
       "       [0., 0., 0., ..., 0., 0., 0.],\n",
       "       [0., 0., 0., ..., 0., 1., 0.],\n",
       "       [0., 1., 0., ..., 0., 0., 0.]])"
      ]
     },
     "execution_count": 77,
     "metadata": {},
     "output_type": "execute_result"
    }
   ],
   "source": [
    "encoder_1.fit_transform(df[['Airline']]).toarray()"
   ]
  },
  {
   "cell_type": "code",
   "execution_count": 78,
   "id": "208ac42d",
   "metadata": {},
   "outputs": [
    {
     "data": {
      "text/html": [
       "<div>\n",
       "<style scoped>\n",
       "    .dataframe tbody tr th:only-of-type {\n",
       "        vertical-align: middle;\n",
       "    }\n",
       "\n",
       "    .dataframe tbody tr th {\n",
       "        vertical-align: top;\n",
       "    }\n",
       "\n",
       "    .dataframe thead th {\n",
       "        text-align: right;\n",
       "    }\n",
       "</style>\n",
       "<table border=\"1\" class=\"dataframe\">\n",
       "  <thead>\n",
       "    <tr style=\"text-align: right;\">\n",
       "      <th></th>\n",
       "      <th>Airline_Air Asia</th>\n",
       "      <th>Airline_Air India</th>\n",
       "      <th>Airline_GoAir</th>\n",
       "      <th>Airline_IndiGo</th>\n",
       "      <th>Airline_Jet Airways</th>\n",
       "      <th>Airline_Jet Airways Business</th>\n",
       "      <th>Airline_Multiple carriers</th>\n",
       "      <th>Airline_Multiple carriers Premium economy</th>\n",
       "      <th>Airline_SpiceJet</th>\n",
       "      <th>Airline_Trujet</th>\n",
       "      <th>Airline_Vistara</th>\n",
       "      <th>Airline_Vistara Premium economy</th>\n",
       "    </tr>\n",
       "  </thead>\n",
       "  <tbody>\n",
       "    <tr>\n",
       "      <th>0</th>\n",
       "      <td>0.0</td>\n",
       "      <td>0.0</td>\n",
       "      <td>0.0</td>\n",
       "      <td>1.0</td>\n",
       "      <td>0.0</td>\n",
       "      <td>0.0</td>\n",
       "      <td>0.0</td>\n",
       "      <td>0.0</td>\n",
       "      <td>0.0</td>\n",
       "      <td>0.0</td>\n",
       "      <td>0.0</td>\n",
       "      <td>0.0</td>\n",
       "    </tr>\n",
       "    <tr>\n",
       "      <th>1</th>\n",
       "      <td>0.0</td>\n",
       "      <td>1.0</td>\n",
       "      <td>0.0</td>\n",
       "      <td>0.0</td>\n",
       "      <td>0.0</td>\n",
       "      <td>0.0</td>\n",
       "      <td>0.0</td>\n",
       "      <td>0.0</td>\n",
       "      <td>0.0</td>\n",
       "      <td>0.0</td>\n",
       "      <td>0.0</td>\n",
       "      <td>0.0</td>\n",
       "    </tr>\n",
       "    <tr>\n",
       "      <th>2</th>\n",
       "      <td>0.0</td>\n",
       "      <td>0.0</td>\n",
       "      <td>0.0</td>\n",
       "      <td>0.0</td>\n",
       "      <td>1.0</td>\n",
       "      <td>0.0</td>\n",
       "      <td>0.0</td>\n",
       "      <td>0.0</td>\n",
       "      <td>0.0</td>\n",
       "      <td>0.0</td>\n",
       "      <td>0.0</td>\n",
       "      <td>0.0</td>\n",
       "    </tr>\n",
       "    <tr>\n",
       "      <th>3</th>\n",
       "      <td>0.0</td>\n",
       "      <td>0.0</td>\n",
       "      <td>0.0</td>\n",
       "      <td>1.0</td>\n",
       "      <td>0.0</td>\n",
       "      <td>0.0</td>\n",
       "      <td>0.0</td>\n",
       "      <td>0.0</td>\n",
       "      <td>0.0</td>\n",
       "      <td>0.0</td>\n",
       "      <td>0.0</td>\n",
       "      <td>0.0</td>\n",
       "    </tr>\n",
       "    <tr>\n",
       "      <th>4</th>\n",
       "      <td>0.0</td>\n",
       "      <td>0.0</td>\n",
       "      <td>0.0</td>\n",
       "      <td>1.0</td>\n",
       "      <td>0.0</td>\n",
       "      <td>0.0</td>\n",
       "      <td>0.0</td>\n",
       "      <td>0.0</td>\n",
       "      <td>0.0</td>\n",
       "      <td>0.0</td>\n",
       "      <td>0.0</td>\n",
       "      <td>0.0</td>\n",
       "    </tr>\n",
       "    <tr>\n",
       "      <th>...</th>\n",
       "      <td>...</td>\n",
       "      <td>...</td>\n",
       "      <td>...</td>\n",
       "      <td>...</td>\n",
       "      <td>...</td>\n",
       "      <td>...</td>\n",
       "      <td>...</td>\n",
       "      <td>...</td>\n",
       "      <td>...</td>\n",
       "      <td>...</td>\n",
       "      <td>...</td>\n",
       "      <td>...</td>\n",
       "    </tr>\n",
       "    <tr>\n",
       "      <th>10676</th>\n",
       "      <td>1.0</td>\n",
       "      <td>0.0</td>\n",
       "      <td>0.0</td>\n",
       "      <td>0.0</td>\n",
       "      <td>0.0</td>\n",
       "      <td>0.0</td>\n",
       "      <td>0.0</td>\n",
       "      <td>0.0</td>\n",
       "      <td>0.0</td>\n",
       "      <td>0.0</td>\n",
       "      <td>0.0</td>\n",
       "      <td>0.0</td>\n",
       "    </tr>\n",
       "    <tr>\n",
       "      <th>10677</th>\n",
       "      <td>0.0</td>\n",
       "      <td>1.0</td>\n",
       "      <td>0.0</td>\n",
       "      <td>0.0</td>\n",
       "      <td>0.0</td>\n",
       "      <td>0.0</td>\n",
       "      <td>0.0</td>\n",
       "      <td>0.0</td>\n",
       "      <td>0.0</td>\n",
       "      <td>0.0</td>\n",
       "      <td>0.0</td>\n",
       "      <td>0.0</td>\n",
       "    </tr>\n",
       "    <tr>\n",
       "      <th>10678</th>\n",
       "      <td>0.0</td>\n",
       "      <td>0.0</td>\n",
       "      <td>0.0</td>\n",
       "      <td>0.0</td>\n",
       "      <td>1.0</td>\n",
       "      <td>0.0</td>\n",
       "      <td>0.0</td>\n",
       "      <td>0.0</td>\n",
       "      <td>0.0</td>\n",
       "      <td>0.0</td>\n",
       "      <td>0.0</td>\n",
       "      <td>0.0</td>\n",
       "    </tr>\n",
       "    <tr>\n",
       "      <th>10679</th>\n",
       "      <td>0.0</td>\n",
       "      <td>0.0</td>\n",
       "      <td>0.0</td>\n",
       "      <td>0.0</td>\n",
       "      <td>0.0</td>\n",
       "      <td>0.0</td>\n",
       "      <td>0.0</td>\n",
       "      <td>0.0</td>\n",
       "      <td>0.0</td>\n",
       "      <td>0.0</td>\n",
       "      <td>1.0</td>\n",
       "      <td>0.0</td>\n",
       "    </tr>\n",
       "    <tr>\n",
       "      <th>10680</th>\n",
       "      <td>0.0</td>\n",
       "      <td>1.0</td>\n",
       "      <td>0.0</td>\n",
       "      <td>0.0</td>\n",
       "      <td>0.0</td>\n",
       "      <td>0.0</td>\n",
       "      <td>0.0</td>\n",
       "      <td>0.0</td>\n",
       "      <td>0.0</td>\n",
       "      <td>0.0</td>\n",
       "      <td>0.0</td>\n",
       "      <td>0.0</td>\n",
       "    </tr>\n",
       "  </tbody>\n",
       "</table>\n",
       "<p>10681 rows × 12 columns</p>\n",
       "</div>"
      ],
      "text/plain": [
       "       Airline_Air Asia  Airline_Air India  Airline_GoAir  Airline_IndiGo  \\\n",
       "0                   0.0                0.0            0.0             1.0   \n",
       "1                   0.0                1.0            0.0             0.0   \n",
       "2                   0.0                0.0            0.0             0.0   \n",
       "3                   0.0                0.0            0.0             1.0   \n",
       "4                   0.0                0.0            0.0             1.0   \n",
       "...                 ...                ...            ...             ...   \n",
       "10676               1.0                0.0            0.0             0.0   \n",
       "10677               0.0                1.0            0.0             0.0   \n",
       "10678               0.0                0.0            0.0             0.0   \n",
       "10679               0.0                0.0            0.0             0.0   \n",
       "10680               0.0                1.0            0.0             0.0   \n",
       "\n",
       "       Airline_Jet Airways  Airline_Jet Airways Business  \\\n",
       "0                      0.0                           0.0   \n",
       "1                      0.0                           0.0   \n",
       "2                      1.0                           0.0   \n",
       "3                      0.0                           0.0   \n",
       "4                      0.0                           0.0   \n",
       "...                    ...                           ...   \n",
       "10676                  0.0                           0.0   \n",
       "10677                  0.0                           0.0   \n",
       "10678                  1.0                           0.0   \n",
       "10679                  0.0                           0.0   \n",
       "10680                  0.0                           0.0   \n",
       "\n",
       "       Airline_Multiple carriers  Airline_Multiple carriers Premium economy  \\\n",
       "0                            0.0                                        0.0   \n",
       "1                            0.0                                        0.0   \n",
       "2                            0.0                                        0.0   \n",
       "3                            0.0                                        0.0   \n",
       "4                            0.0                                        0.0   \n",
       "...                          ...                                        ...   \n",
       "10676                        0.0                                        0.0   \n",
       "10677                        0.0                                        0.0   \n",
       "10678                        0.0                                        0.0   \n",
       "10679                        0.0                                        0.0   \n",
       "10680                        0.0                                        0.0   \n",
       "\n",
       "       Airline_SpiceJet  Airline_Trujet  Airline_Vistara  \\\n",
       "0                   0.0             0.0              0.0   \n",
       "1                   0.0             0.0              0.0   \n",
       "2                   0.0             0.0              0.0   \n",
       "3                   0.0             0.0              0.0   \n",
       "4                   0.0             0.0              0.0   \n",
       "...                 ...             ...              ...   \n",
       "10676               0.0             0.0              0.0   \n",
       "10677               0.0             0.0              0.0   \n",
       "10678               0.0             0.0              0.0   \n",
       "10679               0.0             0.0              1.0   \n",
       "10680               0.0             0.0              0.0   \n",
       "\n",
       "       Airline_Vistara Premium economy  \n",
       "0                                  0.0  \n",
       "1                                  0.0  \n",
       "2                                  0.0  \n",
       "3                                  0.0  \n",
       "4                                  0.0  \n",
       "...                                ...  \n",
       "10676                              0.0  \n",
       "10677                              0.0  \n",
       "10678                              0.0  \n",
       "10679                              0.0  \n",
       "10680                              0.0  \n",
       "\n",
       "[10681 rows x 12 columns]"
      ]
     },
     "execution_count": 78,
     "metadata": {},
     "output_type": "execute_result"
    }
   ],
   "source": [
    "pd.DataFrame(encoder_1.fit_transform(df[['Airline']]).toarray(), columns=encoder_1.get_feature_names_out())"
   ]
  },
  {
   "cell_type": "code",
   "execution_count": 79,
   "id": "5374a116",
   "metadata": {},
   "outputs": [],
   "source": [
    "enc_1=pd.DataFrame(encoder_1.fit_transform(df[['Airline']]).toarray(), columns=encoder_1.get_feature_names_out())"
   ]
  },
  {
   "cell_type": "code",
   "execution_count": 80,
   "id": "ca589ef2",
   "metadata": {},
   "outputs": [],
   "source": [
    "# similarly we can do the same to Source also\n",
    "enc_2=pd.DataFrame(encoder_2.fit_transform(df[['Source']]).toarray(), columns=encoder_2.get_feature_names_out())"
   ]
  },
  {
   "cell_type": "code",
   "execution_count": 81,
   "id": "9c0438d7",
   "metadata": {},
   "outputs": [],
   "source": [
    "# similarly we can do the same to Destination also\n",
    "enc_3=pd.DataFrame(encoder_3.fit_transform(df[['Destination']]).toarray(), columns=encoder_3.get_feature_names_out())"
   ]
  },
  {
   "cell_type": "code",
   "execution_count": 82,
   "id": "47e5997a",
   "metadata": {},
   "outputs": [],
   "source": [
    "# now we can easily concatenate enc_1, enc_2 and enc_3 with df and we can delete columns Airline, Source, Destination\n",
    "df.drop(['Airline', 'Source', 'Destination'], axis=1, inplace=True)"
   ]
  },
  {
   "cell_type": "code",
   "execution_count": 83,
   "id": "95b390c4",
   "metadata": {},
   "outputs": [],
   "source": [
    "# concatination enc 1,2,3 with df\n",
    "\n",
    "df_new=pd.concat([df, enc_1, enc_2, enc_3], axis=1)"
   ]
  },
  {
   "cell_type": "code",
   "execution_count": 84,
   "id": "3ead6e9a",
   "metadata": {},
   "outputs": [
    {
     "name": "stdout",
     "output_type": "stream",
     "text": [
      "<class 'pandas.core.frame.DataFrame'>\n",
      "Int64Index: 10683 entries, 0 to 9039\n",
      "Data columns (total 35 columns):\n",
      " #   Column                                     Non-Null Count  Dtype  \n",
      "---  ------                                     --------------  -----  \n",
      " 0   Additional_Info                            10681 non-null  object \n",
      " 1   Price                                      10681 non-null  float64\n",
      " 2   Date                                       10681 non-null  float64\n",
      " 3   Month                                      10681 non-null  float64\n",
      " 4   Year                                       10681 non-null  float64\n",
      " 5   Dep_hrs                                    10681 non-null  float64\n",
      " 6   Dep_min                                    10681 non-null  float64\n",
      " 7   Arr_Hrs                                    10681 non-null  float64\n",
      " 8   Arr_Min                                    10681 non-null  float64\n",
      " 9   Duration_Hrs                               10681 non-null  float64\n",
      " 10  Duration_Min                               10681 non-null  float64\n",
      " 11  Stop                                       10681 non-null  float64\n",
      " 12  Airline_Air Asia                           10681 non-null  float64\n",
      " 13  Airline_Air India                          10681 non-null  float64\n",
      " 14  Airline_GoAir                              10681 non-null  float64\n",
      " 15  Airline_IndiGo                             10681 non-null  float64\n",
      " 16  Airline_Jet Airways                        10681 non-null  float64\n",
      " 17  Airline_Jet Airways Business               10681 non-null  float64\n",
      " 18  Airline_Multiple carriers                  10681 non-null  float64\n",
      " 19  Airline_Multiple carriers Premium economy  10681 non-null  float64\n",
      " 20  Airline_SpiceJet                           10681 non-null  float64\n",
      " 21  Airline_Trujet                             10681 non-null  float64\n",
      " 22  Airline_Vistara                            10681 non-null  float64\n",
      " 23  Airline_Vistara Premium economy            10681 non-null  float64\n",
      " 24  Source_Banglore                            10681 non-null  float64\n",
      " 25  Source_Chennai                             10681 non-null  float64\n",
      " 26  Source_Delhi                               10681 non-null  float64\n",
      " 27  Source_Kolkata                             10681 non-null  float64\n",
      " 28  Source_Mumbai                              10681 non-null  float64\n",
      " 29  Destination_Banglore                       10681 non-null  float64\n",
      " 30  Destination_Cochin                         10681 non-null  float64\n",
      " 31  Destination_Delhi                          10681 non-null  float64\n",
      " 32  Destination_Hyderabad                      10681 non-null  float64\n",
      " 33  Destination_Kolkata                        10681 non-null  float64\n",
      " 34  Destination_New Delhi                      10681 non-null  float64\n",
      "dtypes: float64(34), object(1)\n",
      "memory usage: 2.9+ MB\n"
     ]
    }
   ],
   "source": [
    "df_new.info()"
   ]
  },
  {
   "cell_type": "code",
   "execution_count": 85,
   "id": "58dad00d",
   "metadata": {},
   "outputs": [
    {
     "data": {
      "text/html": [
       "<div>\n",
       "<style scoped>\n",
       "    .dataframe tbody tr th:only-of-type {\n",
       "        vertical-align: middle;\n",
       "    }\n",
       "\n",
       "    .dataframe tbody tr th {\n",
       "        vertical-align: top;\n",
       "    }\n",
       "\n",
       "    .dataframe thead th {\n",
       "        text-align: right;\n",
       "    }\n",
       "</style>\n",
       "<table border=\"1\" class=\"dataframe\">\n",
       "  <thead>\n",
       "    <tr style=\"text-align: right;\">\n",
       "      <th></th>\n",
       "      <th>Additional_Info</th>\n",
       "      <th>Price</th>\n",
       "      <th>Date</th>\n",
       "      <th>Month</th>\n",
       "      <th>Year</th>\n",
       "      <th>Dep_hrs</th>\n",
       "      <th>Dep_min</th>\n",
       "      <th>Arr_Hrs</th>\n",
       "      <th>Arr_Min</th>\n",
       "      <th>Duration_Hrs</th>\n",
       "      <th>...</th>\n",
       "      <th>Source_Chennai</th>\n",
       "      <th>Source_Delhi</th>\n",
       "      <th>Source_Kolkata</th>\n",
       "      <th>Source_Mumbai</th>\n",
       "      <th>Destination_Banglore</th>\n",
       "      <th>Destination_Cochin</th>\n",
       "      <th>Destination_Delhi</th>\n",
       "      <th>Destination_Hyderabad</th>\n",
       "      <th>Destination_Kolkata</th>\n",
       "      <th>Destination_New Delhi</th>\n",
       "    </tr>\n",
       "  </thead>\n",
       "  <tbody>\n",
       "    <tr>\n",
       "      <th>0</th>\n",
       "      <td>No Info</td>\n",
       "      <td>3897.0</td>\n",
       "      <td>24.0</td>\n",
       "      <td>3.0</td>\n",
       "      <td>2019.0</td>\n",
       "      <td>22.0</td>\n",
       "      <td>20.0</td>\n",
       "      <td>1.0</td>\n",
       "      <td>10.0</td>\n",
       "      <td>2.0</td>\n",
       "      <td>...</td>\n",
       "      <td>0.0</td>\n",
       "      <td>0.0</td>\n",
       "      <td>0.0</td>\n",
       "      <td>0.0</td>\n",
       "      <td>0.0</td>\n",
       "      <td>0.0</td>\n",
       "      <td>0.0</td>\n",
       "      <td>0.0</td>\n",
       "      <td>0.0</td>\n",
       "      <td>1.0</td>\n",
       "    </tr>\n",
       "    <tr>\n",
       "      <th>1</th>\n",
       "      <td>No Info</td>\n",
       "      <td>7662.0</td>\n",
       "      <td>1.0</td>\n",
       "      <td>5.0</td>\n",
       "      <td>2019.0</td>\n",
       "      <td>5.0</td>\n",
       "      <td>50.0</td>\n",
       "      <td>13.0</td>\n",
       "      <td>15.0</td>\n",
       "      <td>7.0</td>\n",
       "      <td>...</td>\n",
       "      <td>0.0</td>\n",
       "      <td>0.0</td>\n",
       "      <td>1.0</td>\n",
       "      <td>0.0</td>\n",
       "      <td>1.0</td>\n",
       "      <td>0.0</td>\n",
       "      <td>0.0</td>\n",
       "      <td>0.0</td>\n",
       "      <td>0.0</td>\n",
       "      <td>0.0</td>\n",
       "    </tr>\n",
       "  </tbody>\n",
       "</table>\n",
       "<p>2 rows × 35 columns</p>\n",
       "</div>"
      ],
      "text/plain": [
       "  Additional_Info   Price  Date  Month    Year  Dep_hrs  Dep_min  Arr_Hrs  \\\n",
       "0         No Info  3897.0  24.0    3.0  2019.0     22.0     20.0      1.0   \n",
       "1         No Info  7662.0   1.0    5.0  2019.0      5.0     50.0     13.0   \n",
       "\n",
       "   Arr_Min  Duration_Hrs  ...  Source_Chennai  Source_Delhi  Source_Kolkata  \\\n",
       "0     10.0           2.0  ...             0.0           0.0             0.0   \n",
       "1     15.0           7.0  ...             0.0           0.0             1.0   \n",
       "\n",
       "   Source_Mumbai  Destination_Banglore  Destination_Cochin  Destination_Delhi  \\\n",
       "0            0.0                   0.0                 0.0                0.0   \n",
       "1            0.0                   1.0                 0.0                0.0   \n",
       "\n",
       "   Destination_Hyderabad  Destination_Kolkata  Destination_New Delhi  \n",
       "0                    0.0                  0.0                    1.0  \n",
       "1                    0.0                  0.0                    0.0  \n",
       "\n",
       "[2 rows x 35 columns]"
      ]
     },
     "execution_count": 85,
     "metadata": {},
     "output_type": "execute_result"
    }
   ],
   "source": [
    "df_new.head(2)"
   ]
  },
  {
   "cell_type": "code",
   "execution_count": 86,
   "id": "57abbbfc",
   "metadata": {},
   "outputs": [
    {
     "data": {
      "text/plain": [
       "(10681, 12)"
      ]
     },
     "execution_count": 86,
     "metadata": {},
     "output_type": "execute_result"
    }
   ],
   "source": [
    "enc_1.shape"
   ]
  },
  {
   "cell_type": "code",
   "execution_count": 87,
   "id": "4ac71e4f",
   "metadata": {},
   "outputs": [
    {
     "data": {
      "text/plain": [
       "(10681, 5)"
      ]
     },
     "execution_count": 87,
     "metadata": {},
     "output_type": "execute_result"
    }
   ],
   "source": [
    "enc_2.shape"
   ]
  },
  {
   "cell_type": "code",
   "execution_count": 88,
   "id": "b0a552b4",
   "metadata": {},
   "outputs": [
    {
     "data": {
      "text/plain": [
       "(10681, 6)"
      ]
     },
     "execution_count": 88,
     "metadata": {},
     "output_type": "execute_result"
    }
   ],
   "source": [
    "enc_3.shape"
   ]
  },
  {
   "cell_type": "code",
   "execution_count": 89,
   "id": "412dfbf8",
   "metadata": {},
   "outputs": [
    {
     "data": {
      "text/plain": [
       "(10681, 12)"
      ]
     },
     "execution_count": 89,
     "metadata": {},
     "output_type": "execute_result"
    }
   ],
   "source": [
    "df.shape"
   ]
  },
  {
   "cell_type": "code",
   "execution_count": 90,
   "id": "5aafba13",
   "metadata": {},
   "outputs": [
    {
     "data": {
      "text/plain": [
       "(10683, 35)"
      ]
     },
     "execution_count": 90,
     "metadata": {},
     "output_type": "execute_result"
    }
   ],
   "source": [
    "df_new.shape"
   ]
  },
  {
   "cell_type": "code",
   "execution_count": 91,
   "id": "b8a6d8f4",
   "metadata": {},
   "outputs": [
    {
     "data": {
      "text/plain": [
       "Additional_Info                              2\n",
       "Price                                        2\n",
       "Date                                         2\n",
       "Month                                        2\n",
       "Year                                         2\n",
       "Dep_hrs                                      2\n",
       "Dep_min                                      2\n",
       "Arr_Hrs                                      2\n",
       "Arr_Min                                      2\n",
       "Duration_Hrs                                 2\n",
       "Duration_Min                                 2\n",
       "Stop                                         2\n",
       "Airline_Air Asia                             2\n",
       "Airline_Air India                            2\n",
       "Airline_GoAir                                2\n",
       "Airline_IndiGo                               2\n",
       "Airline_Jet Airways                          2\n",
       "Airline_Jet Airways Business                 2\n",
       "Airline_Multiple carriers                    2\n",
       "Airline_Multiple carriers Premium economy    2\n",
       "Airline_SpiceJet                             2\n",
       "Airline_Trujet                               2\n",
       "Airline_Vistara                              2\n",
       "Airline_Vistara Premium economy              2\n",
       "Source_Banglore                              2\n",
       "Source_Chennai                               2\n",
       "Source_Delhi                                 2\n",
       "Source_Kolkata                               2\n",
       "Source_Mumbai                                2\n",
       "Destination_Banglore                         2\n",
       "Destination_Cochin                           2\n",
       "Destination_Delhi                            2\n",
       "Destination_Hyderabad                        2\n",
       "Destination_Kolkata                          2\n",
       "Destination_New Delhi                        2\n",
       "dtype: int64"
      ]
     },
     "execution_count": 91,
     "metadata": {},
     "output_type": "execute_result"
    }
   ],
   "source": [
    "# here two values are extra so we'll have to check\n",
    "df_new.isnull().sum()"
   ]
  },
  {
   "cell_type": "code",
   "execution_count": 92,
   "id": "1374463a",
   "metadata": {},
   "outputs": [
    {
     "data": {
      "text/html": [
       "<div>\n",
       "<style scoped>\n",
       "    .dataframe tbody tr th:only-of-type {\n",
       "        vertical-align: middle;\n",
       "    }\n",
       "\n",
       "    .dataframe tbody tr th {\n",
       "        vertical-align: top;\n",
       "    }\n",
       "\n",
       "    .dataframe thead th {\n",
       "        text-align: right;\n",
       "    }\n",
       "</style>\n",
       "<table border=\"1\" class=\"dataframe\">\n",
       "  <thead>\n",
       "    <tr style=\"text-align: right;\">\n",
       "      <th></th>\n",
       "      <th>Additional_Info</th>\n",
       "      <th>Price</th>\n",
       "      <th>Date</th>\n",
       "      <th>Month</th>\n",
       "      <th>Year</th>\n",
       "      <th>Dep_hrs</th>\n",
       "      <th>Dep_min</th>\n",
       "      <th>Arr_Hrs</th>\n",
       "      <th>Arr_Min</th>\n",
       "      <th>Duration_Hrs</th>\n",
       "      <th>...</th>\n",
       "      <th>Source_Chennai</th>\n",
       "      <th>Source_Delhi</th>\n",
       "      <th>Source_Kolkata</th>\n",
       "      <th>Source_Mumbai</th>\n",
       "      <th>Destination_Banglore</th>\n",
       "      <th>Destination_Cochin</th>\n",
       "      <th>Destination_Delhi</th>\n",
       "      <th>Destination_Hyderabad</th>\n",
       "      <th>Destination_Kolkata</th>\n",
       "      <th>Destination_New Delhi</th>\n",
       "    </tr>\n",
       "  </thead>\n",
       "  <tbody>\n",
       "    <tr>\n",
       "      <th>6474</th>\n",
       "      <td>NaN</td>\n",
       "      <td>NaN</td>\n",
       "      <td>NaN</td>\n",
       "      <td>NaN</td>\n",
       "      <td>NaN</td>\n",
       "      <td>NaN</td>\n",
       "      <td>NaN</td>\n",
       "      <td>NaN</td>\n",
       "      <td>NaN</td>\n",
       "      <td>NaN</td>\n",
       "      <td>...</td>\n",
       "      <td>0.0</td>\n",
       "      <td>0.0</td>\n",
       "      <td>0.0</td>\n",
       "      <td>0.0</td>\n",
       "      <td>0.0</td>\n",
       "      <td>0.0</td>\n",
       "      <td>0.0</td>\n",
       "      <td>0.0</td>\n",
       "      <td>0.0</td>\n",
       "      <td>1.0</td>\n",
       "    </tr>\n",
       "    <tr>\n",
       "      <th>9039</th>\n",
       "      <td>NaN</td>\n",
       "      <td>NaN</td>\n",
       "      <td>NaN</td>\n",
       "      <td>NaN</td>\n",
       "      <td>NaN</td>\n",
       "      <td>NaN</td>\n",
       "      <td>NaN</td>\n",
       "      <td>NaN</td>\n",
       "      <td>NaN</td>\n",
       "      <td>NaN</td>\n",
       "      <td>...</td>\n",
       "      <td>0.0</td>\n",
       "      <td>1.0</td>\n",
       "      <td>0.0</td>\n",
       "      <td>0.0</td>\n",
       "      <td>0.0</td>\n",
       "      <td>1.0</td>\n",
       "      <td>0.0</td>\n",
       "      <td>0.0</td>\n",
       "      <td>0.0</td>\n",
       "      <td>0.0</td>\n",
       "    </tr>\n",
       "  </tbody>\n",
       "</table>\n",
       "<p>2 rows × 35 columns</p>\n",
       "</div>"
      ],
      "text/plain": [
       "     Additional_Info  Price  Date  Month  Year  Dep_hrs  Dep_min  Arr_Hrs  \\\n",
       "6474             NaN    NaN   NaN    NaN   NaN      NaN      NaN      NaN   \n",
       "9039             NaN    NaN   NaN    NaN   NaN      NaN      NaN      NaN   \n",
       "\n",
       "      Arr_Min  Duration_Hrs  ...  Source_Chennai  Source_Delhi  \\\n",
       "6474      NaN           NaN  ...             0.0           0.0   \n",
       "9039      NaN           NaN  ...             0.0           1.0   \n",
       "\n",
       "      Source_Kolkata  Source_Mumbai  Destination_Banglore  Destination_Cochin  \\\n",
       "6474             0.0            0.0                   0.0                 0.0   \n",
       "9039             0.0            0.0                   0.0                 1.0   \n",
       "\n",
       "      Destination_Delhi  Destination_Hyderabad  Destination_Kolkata  \\\n",
       "6474                0.0                    0.0                  0.0   \n",
       "9039                0.0                    0.0                  0.0   \n",
       "\n",
       "      Destination_New Delhi  \n",
       "6474                    1.0  \n",
       "9039                    0.0  \n",
       "\n",
       "[2 rows x 35 columns]"
      ]
     },
     "execution_count": 92,
     "metadata": {},
     "output_type": "execute_result"
    }
   ],
   "source": [
    "df_new.tail(2)\n",
    "# here we can see that source and destination are same therefore this is null value and we'll have to remove it"
   ]
  },
  {
   "cell_type": "code",
   "execution_count": 93,
   "id": "6248b351",
   "metadata": {},
   "outputs": [],
   "source": [
    "df_new.dropna(inplace=True)\n"
   ]
  },
  {
   "cell_type": "code",
   "execution_count": 94,
   "id": "9f6277ae",
   "metadata": {},
   "outputs": [
    {
     "data": {
      "text/plain": [
       "(10679, 35)"
      ]
     },
     "execution_count": 94,
     "metadata": {},
     "output_type": "execute_result"
    }
   ],
   "source": [
    "df_new.shape"
   ]
  },
  {
   "cell_type": "code",
   "execution_count": 95,
   "id": "07627b10",
   "metadata": {},
   "outputs": [
    {
     "data": {
      "text/plain": [
       "Additional_Info                              0\n",
       "Price                                        0\n",
       "Date                                         0\n",
       "Month                                        0\n",
       "Year                                         0\n",
       "Dep_hrs                                      0\n",
       "Dep_min                                      0\n",
       "Arr_Hrs                                      0\n",
       "Arr_Min                                      0\n",
       "Duration_Hrs                                 0\n",
       "Duration_Min                                 0\n",
       "Stop                                         0\n",
       "Airline_Air Asia                             0\n",
       "Airline_Air India                            0\n",
       "Airline_GoAir                                0\n",
       "Airline_IndiGo                               0\n",
       "Airline_Jet Airways                          0\n",
       "Airline_Jet Airways Business                 0\n",
       "Airline_Multiple carriers                    0\n",
       "Airline_Multiple carriers Premium economy    0\n",
       "Airline_SpiceJet                             0\n",
       "Airline_Trujet                               0\n",
       "Airline_Vistara                              0\n",
       "Airline_Vistara Premium economy              0\n",
       "Source_Banglore                              0\n",
       "Source_Chennai                               0\n",
       "Source_Delhi                                 0\n",
       "Source_Kolkata                               0\n",
       "Source_Mumbai                                0\n",
       "Destination_Banglore                         0\n",
       "Destination_Cochin                           0\n",
       "Destination_Delhi                            0\n",
       "Destination_Hyderabad                        0\n",
       "Destination_Kolkata                          0\n",
       "Destination_New Delhi                        0\n",
       "dtype: int64"
      ]
     },
     "execution_count": 95,
     "metadata": {},
     "output_type": "execute_result"
    }
   ],
   "source": [
    "df_new.isnull().sum()"
   ]
  },
  {
   "cell_type": "code",
   "execution_count": 96,
   "id": "da8abc7a",
   "metadata": {},
   "outputs": [],
   "source": [
    "# now we are left with only one categorical feature, we can convert it into numerical feature using label encoder\n",
    "# importing necessary library\n",
    "\n",
    "from sklearn.preprocessing import LabelEncoder"
   ]
  },
  {
   "cell_type": "code",
   "execution_count": 97,
   "id": "932c5d9c",
   "metadata": {},
   "outputs": [],
   "source": [
    "# creating object\n",
    "encoder_4=LabelEncoder()"
   ]
  },
  {
   "cell_type": "code",
   "execution_count": 98,
   "id": "3dcf2c3c",
   "metadata": {},
   "outputs": [
    {
     "name": "stderr",
     "output_type": "stream",
     "text": [
      "C:\\Users\\alwar\\anaconda3\\lib\\site-packages\\sklearn\\preprocessing\\_label.py:115: DataConversionWarning: A column-vector y was passed when a 1d array was expected. Please change the shape of y to (n_samples, ), for example using ravel().\n",
      "  y = column_or_1d(y, warn=True)\n"
     ]
    }
   ],
   "source": [
    "enc_4=pd.DataFrame(encoder_4.fit_transform(df_new[['Additional_Info']]))"
   ]
  },
  {
   "cell_type": "code",
   "execution_count": 99,
   "id": "6fc3ead6",
   "metadata": {},
   "outputs": [
    {
     "data": {
      "text/plain": [
       "6    8344\n",
       "5    1982\n",
       "7     320\n",
       "0      19\n",
       "4       7\n",
       "3       4\n",
       "1       1\n",
       "2       1\n",
       "8       1\n",
       "dtype: int64"
      ]
     },
     "execution_count": 99,
     "metadata": {},
     "output_type": "execute_result"
    }
   ],
   "source": [
    "enc_4.value_counts()"
   ]
  },
  {
   "cell_type": "code",
   "execution_count": 100,
   "id": "0f9f7712",
   "metadata": {},
   "outputs": [
    {
     "data": {
      "text/plain": [
       "(10679, 1)"
      ]
     },
     "execution_count": 100,
     "metadata": {},
     "output_type": "execute_result"
    }
   ],
   "source": [
    "enc_4.shape"
   ]
  },
  {
   "cell_type": "code",
   "execution_count": 101,
   "id": "124f97e0",
   "metadata": {},
   "outputs": [
    {
     "data": {
      "text/plain": [
       "6    8344\n",
       "5    1982\n",
       "7     320\n",
       "0      19\n",
       "4       7\n",
       "3       4\n",
       "1       1\n",
       "2       1\n",
       "8       1\n",
       "dtype: int64"
      ]
     },
     "execution_count": 101,
     "metadata": {},
     "output_type": "execute_result"
    }
   ],
   "source": [
    "enc_4.value_counts()"
   ]
  },
  {
   "cell_type": "code",
   "execution_count": 102,
   "id": "fd7eff14",
   "metadata": {},
   "outputs": [],
   "source": [
    "# now we can easily concatenate this enc_4 with df_new\n",
    "\n",
    "df_new=pd.concat([df_new, enc_4], axis=1)"
   ]
  },
  {
   "cell_type": "code",
   "execution_count": 103,
   "id": "cd666f64",
   "metadata": {},
   "outputs": [
    {
     "data": {
      "text/html": [
       "<div>\n",
       "<style scoped>\n",
       "    .dataframe tbody tr th:only-of-type {\n",
       "        vertical-align: middle;\n",
       "    }\n",
       "\n",
       "    .dataframe tbody tr th {\n",
       "        vertical-align: top;\n",
       "    }\n",
       "\n",
       "    .dataframe thead th {\n",
       "        text-align: right;\n",
       "    }\n",
       "</style>\n",
       "<table border=\"1\" class=\"dataframe\">\n",
       "  <thead>\n",
       "    <tr style=\"text-align: right;\">\n",
       "      <th></th>\n",
       "      <th>Additional_Info</th>\n",
       "      <th>Price</th>\n",
       "      <th>Date</th>\n",
       "      <th>Month</th>\n",
       "      <th>Year</th>\n",
       "      <th>Dep_hrs</th>\n",
       "      <th>Dep_min</th>\n",
       "      <th>Arr_Hrs</th>\n",
       "      <th>Arr_Min</th>\n",
       "      <th>Duration_Hrs</th>\n",
       "      <th>...</th>\n",
       "      <th>Source_Delhi</th>\n",
       "      <th>Source_Kolkata</th>\n",
       "      <th>Source_Mumbai</th>\n",
       "      <th>Destination_Banglore</th>\n",
       "      <th>Destination_Cochin</th>\n",
       "      <th>Destination_Delhi</th>\n",
       "      <th>Destination_Hyderabad</th>\n",
       "      <th>Destination_Kolkata</th>\n",
       "      <th>Destination_New Delhi</th>\n",
       "      <th>0</th>\n",
       "    </tr>\n",
       "  </thead>\n",
       "  <tbody>\n",
       "    <tr>\n",
       "      <th>0</th>\n",
       "      <td>No Info</td>\n",
       "      <td>3897.0</td>\n",
       "      <td>24.0</td>\n",
       "      <td>3.0</td>\n",
       "      <td>2019.0</td>\n",
       "      <td>22.0</td>\n",
       "      <td>20.0</td>\n",
       "      <td>1.0</td>\n",
       "      <td>10.0</td>\n",
       "      <td>2.0</td>\n",
       "      <td>...</td>\n",
       "      <td>0.0</td>\n",
       "      <td>0.0</td>\n",
       "      <td>0.0</td>\n",
       "      <td>0.0</td>\n",
       "      <td>0.0</td>\n",
       "      <td>0.0</td>\n",
       "      <td>0.0</td>\n",
       "      <td>0.0</td>\n",
       "      <td>1.0</td>\n",
       "      <td>6.0</td>\n",
       "    </tr>\n",
       "    <tr>\n",
       "      <th>1</th>\n",
       "      <td>No Info</td>\n",
       "      <td>7662.0</td>\n",
       "      <td>1.0</td>\n",
       "      <td>5.0</td>\n",
       "      <td>2019.0</td>\n",
       "      <td>5.0</td>\n",
       "      <td>50.0</td>\n",
       "      <td>13.0</td>\n",
       "      <td>15.0</td>\n",
       "      <td>7.0</td>\n",
       "      <td>...</td>\n",
       "      <td>0.0</td>\n",
       "      <td>1.0</td>\n",
       "      <td>0.0</td>\n",
       "      <td>1.0</td>\n",
       "      <td>0.0</td>\n",
       "      <td>0.0</td>\n",
       "      <td>0.0</td>\n",
       "      <td>0.0</td>\n",
       "      <td>0.0</td>\n",
       "      <td>6.0</td>\n",
       "    </tr>\n",
       "    <tr>\n",
       "      <th>2</th>\n",
       "      <td>No Info</td>\n",
       "      <td>13882.0</td>\n",
       "      <td>9.0</td>\n",
       "      <td>6.0</td>\n",
       "      <td>2019.0</td>\n",
       "      <td>9.0</td>\n",
       "      <td>25.0</td>\n",
       "      <td>4.0</td>\n",
       "      <td>25.0</td>\n",
       "      <td>19.0</td>\n",
       "      <td>...</td>\n",
       "      <td>1.0</td>\n",
       "      <td>0.0</td>\n",
       "      <td>0.0</td>\n",
       "      <td>0.0</td>\n",
       "      <td>1.0</td>\n",
       "      <td>0.0</td>\n",
       "      <td>0.0</td>\n",
       "      <td>0.0</td>\n",
       "      <td>0.0</td>\n",
       "      <td>6.0</td>\n",
       "    </tr>\n",
       "    <tr>\n",
       "      <th>3</th>\n",
       "      <td>No Info</td>\n",
       "      <td>6218.0</td>\n",
       "      <td>12.0</td>\n",
       "      <td>5.0</td>\n",
       "      <td>2019.0</td>\n",
       "      <td>18.0</td>\n",
       "      <td>5.0</td>\n",
       "      <td>23.0</td>\n",
       "      <td>30.0</td>\n",
       "      <td>5.0</td>\n",
       "      <td>...</td>\n",
       "      <td>0.0</td>\n",
       "      <td>1.0</td>\n",
       "      <td>0.0</td>\n",
       "      <td>1.0</td>\n",
       "      <td>0.0</td>\n",
       "      <td>0.0</td>\n",
       "      <td>0.0</td>\n",
       "      <td>0.0</td>\n",
       "      <td>0.0</td>\n",
       "      <td>6.0</td>\n",
       "    </tr>\n",
       "    <tr>\n",
       "      <th>4</th>\n",
       "      <td>No Info</td>\n",
       "      <td>13302.0</td>\n",
       "      <td>1.0</td>\n",
       "      <td>3.0</td>\n",
       "      <td>2019.0</td>\n",
       "      <td>16.0</td>\n",
       "      <td>50.0</td>\n",
       "      <td>21.0</td>\n",
       "      <td>35.0</td>\n",
       "      <td>4.0</td>\n",
       "      <td>...</td>\n",
       "      <td>0.0</td>\n",
       "      <td>0.0</td>\n",
       "      <td>0.0</td>\n",
       "      <td>0.0</td>\n",
       "      <td>0.0</td>\n",
       "      <td>0.0</td>\n",
       "      <td>0.0</td>\n",
       "      <td>0.0</td>\n",
       "      <td>1.0</td>\n",
       "      <td>6.0</td>\n",
       "    </tr>\n",
       "  </tbody>\n",
       "</table>\n",
       "<p>5 rows × 36 columns</p>\n",
       "</div>"
      ],
      "text/plain": [
       "  Additional_Info    Price  Date  Month    Year  Dep_hrs  Dep_min  Arr_Hrs  \\\n",
       "0         No Info   3897.0  24.0    3.0  2019.0     22.0     20.0      1.0   \n",
       "1         No Info   7662.0   1.0    5.0  2019.0      5.0     50.0     13.0   \n",
       "2         No Info  13882.0   9.0    6.0  2019.0      9.0     25.0      4.0   \n",
       "3         No Info   6218.0  12.0    5.0  2019.0     18.0      5.0     23.0   \n",
       "4         No Info  13302.0   1.0    3.0  2019.0     16.0     50.0     21.0   \n",
       "\n",
       "   Arr_Min  Duration_Hrs  ...  Source_Delhi  Source_Kolkata  Source_Mumbai  \\\n",
       "0     10.0           2.0  ...           0.0             0.0            0.0   \n",
       "1     15.0           7.0  ...           0.0             1.0            0.0   \n",
       "2     25.0          19.0  ...           1.0             0.0            0.0   \n",
       "3     30.0           5.0  ...           0.0             1.0            0.0   \n",
       "4     35.0           4.0  ...           0.0             0.0            0.0   \n",
       "\n",
       "   Destination_Banglore  Destination_Cochin  Destination_Delhi  \\\n",
       "0                   0.0                 0.0                0.0   \n",
       "1                   1.0                 0.0                0.0   \n",
       "2                   0.0                 1.0                0.0   \n",
       "3                   1.0                 0.0                0.0   \n",
       "4                   0.0                 0.0                0.0   \n",
       "\n",
       "   Destination_Hyderabad  Destination_Kolkata  Destination_New Delhi    0  \n",
       "0                    0.0                  0.0                    1.0  6.0  \n",
       "1                    0.0                  0.0                    0.0  6.0  \n",
       "2                    0.0                  0.0                    0.0  6.0  \n",
       "3                    0.0                  0.0                    0.0  6.0  \n",
       "4                    0.0                  0.0                    1.0  6.0  \n",
       "\n",
       "[5 rows x 36 columns]"
      ]
     },
     "execution_count": 103,
     "metadata": {},
     "output_type": "execute_result"
    }
   ],
   "source": [
    "df_new.head()"
   ]
  },
  {
   "cell_type": "code",
   "execution_count": 104,
   "id": "6d016036",
   "metadata": {},
   "outputs": [],
   "source": [
    "# here we can drop the column Additional_info\n",
    "\n",
    "df_new.drop('Additional_Info', axis=1, inplace=True)"
   ]
  },
  {
   "cell_type": "code",
   "execution_count": 105,
   "id": "7761dc65",
   "metadata": {},
   "outputs": [],
   "source": [
    "# Now we can rename our column 0\n",
    "\n",
    "df_new['Additional_Info']=df_new[0]"
   ]
  },
  {
   "cell_type": "code",
   "execution_count": 106,
   "id": "f1b3bd8d",
   "metadata": {},
   "outputs": [],
   "source": [
    "# and we can drop column 0\n",
    "df_new.drop([0], axis=1, inplace=True)"
   ]
  },
  {
   "cell_type": "code",
   "execution_count": 107,
   "id": "8256b1cc",
   "metadata": {},
   "outputs": [
    {
     "name": "stdout",
     "output_type": "stream",
     "text": [
      "<class 'pandas.core.frame.DataFrame'>\n",
      "Int64Index: 10681 entries, 0 to 9039\n",
      "Data columns (total 35 columns):\n",
      " #   Column                                     Non-Null Count  Dtype  \n",
      "---  ------                                     --------------  -----  \n",
      " 0   Price                                      10679 non-null  float64\n",
      " 1   Date                                       10679 non-null  float64\n",
      " 2   Month                                      10679 non-null  float64\n",
      " 3   Year                                       10679 non-null  float64\n",
      " 4   Dep_hrs                                    10679 non-null  float64\n",
      " 5   Dep_min                                    10679 non-null  float64\n",
      " 6   Arr_Hrs                                    10679 non-null  float64\n",
      " 7   Arr_Min                                    10679 non-null  float64\n",
      " 8   Duration_Hrs                               10679 non-null  float64\n",
      " 9   Duration_Min                               10679 non-null  float64\n",
      " 10  Stop                                       10679 non-null  float64\n",
      " 11  Airline_Air Asia                           10679 non-null  float64\n",
      " 12  Airline_Air India                          10679 non-null  float64\n",
      " 13  Airline_GoAir                              10679 non-null  float64\n",
      " 14  Airline_IndiGo                             10679 non-null  float64\n",
      " 15  Airline_Jet Airways                        10679 non-null  float64\n",
      " 16  Airline_Jet Airways Business               10679 non-null  float64\n",
      " 17  Airline_Multiple carriers                  10679 non-null  float64\n",
      " 18  Airline_Multiple carriers Premium economy  10679 non-null  float64\n",
      " 19  Airline_SpiceJet                           10679 non-null  float64\n",
      " 20  Airline_Trujet                             10679 non-null  float64\n",
      " 21  Airline_Vistara                            10679 non-null  float64\n",
      " 22  Airline_Vistara Premium economy            10679 non-null  float64\n",
      " 23  Source_Banglore                            10679 non-null  float64\n",
      " 24  Source_Chennai                             10679 non-null  float64\n",
      " 25  Source_Delhi                               10679 non-null  float64\n",
      " 26  Source_Kolkata                             10679 non-null  float64\n",
      " 27  Source_Mumbai                              10679 non-null  float64\n",
      " 28  Destination_Banglore                       10679 non-null  float64\n",
      " 29  Destination_Cochin                         10679 non-null  float64\n",
      " 30  Destination_Delhi                          10679 non-null  float64\n",
      " 31  Destination_Hyderabad                      10679 non-null  float64\n",
      " 32  Destination_Kolkata                        10679 non-null  float64\n",
      " 33  Destination_New Delhi                      10679 non-null  float64\n",
      " 34  Additional_Info                            10679 non-null  float64\n",
      "dtypes: float64(35)\n",
      "memory usage: 2.9 MB\n"
     ]
    }
   ],
   "source": [
    "df_new.info()"
   ]
  },
  {
   "cell_type": "markdown",
   "id": "4fed4ee8",
   "metadata": {},
   "source": [
    "Now we have converted our dataset ready to go for ML Algo Training"
   ]
  },
  {
   "cell_type": "code",
   "execution_count": null,
   "id": "199c57e0",
   "metadata": {},
   "outputs": [],
   "source": []
  }
 ],
 "metadata": {
  "kernelspec": {
   "display_name": "Python 3 (ipykernel)",
   "language": "python",
   "name": "python3"
  },
  "language_info": {
   "codemirror_mode": {
    "name": "ipython",
    "version": 3
   },
   "file_extension": ".py",
   "mimetype": "text/x-python",
   "name": "python",
   "nbconvert_exporter": "python",
   "pygments_lexer": "ipython3",
   "version": "3.9.12"
  }
 },
 "nbformat": 4,
 "nbformat_minor": 5
}
